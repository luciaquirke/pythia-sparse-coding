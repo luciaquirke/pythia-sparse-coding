{
 "cells": [
  {
   "cell_type": "code",
   "execution_count": 107,
   "metadata": {},
   "outputs": [
    {
     "name": "stdout",
     "output_type": "stream",
     "text": [
      "Loaded 8 autoencoders\n",
      "Hyperparams: {'dict_size': 2048, 'l1_alpha': 0.0026826958637684584}, {'dict_size': 2048, 'l1_alpha': 0.005179474595934153}\n"
     ]
    },
    {
     "name": "stderr",
     "output_type": "stream",
     "text": [
      "Using pad_token, but it is not set yet.\n"
     ]
    },
    {
     "name": "stdout",
     "output_type": "stream",
     "text": [
      "Loaded pretrained model EleutherAI/pythia-70m-deduped into HookedTransformer\n"
     ]
    }
   ],
   "source": [
    "import torch\n",
    "from transformer_lens import HookedTransformer\n",
    "import numpy as np \n",
    "from torch import nn\n",
    "import pickle\n",
    "\n",
    "# autoencoder_filename = \"/home/mchorse/logan/sparse_coding/output_sweep_tied_mlpout_l1_r8/_9/learned_dicts.pt\"\n",
    "autoencoder_filename = \"/home/mchorse/sparse_coding_hoagy/tiedlong_tied_residual_l4_r4/_80/learned_dicts.pt\"\n",
    "auto_num = 5 # Selects which specific autoencoder to use\n",
    "all_autoencoders = torch.load(autoencoder_filename)\n",
    "num_dictionaries = len(all_autoencoders)\n",
    "print(f\"Loaded {num_dictionaries} autoencoders\")\n",
    "smaller_autoencoder, hyperparams = all_autoencoders[auto_num]\n",
    "l1_alpha = hyperparams['l1_alpha']\n",
    "larger_autoencoder, hyperparams2 = all_autoencoders[auto_num+1]\n",
    "smaller_dict = smaller_autoencoder.get_learned_dict()\n",
    "larger_dict = larger_autoencoder.get_learned_dict()\n",
    "print(f\"Hyperparams: {hyperparams}, {hyperparams2}\")\n",
    "#Change these settings to load the correct autoencoder\n",
    "layer = 4\n",
    "setting = \"residual\"\n",
    "# setting = \"attention\"\n",
    "# setting = \"mlp\"\n",
    "# setting = \"mlp_out\"\n",
    "model_name = \"EleutherAI/pythia-70m-deduped\"\n",
    "# model_name = \"EleutherAI/pythia-160m\"\n",
    "\n",
    "device = torch.device(\"cuda:3\" if torch.cuda.is_available() else \"cpu\")\n",
    "model = HookedTransformer.from_pretrained(model_name, device=device)\n",
    "\n",
    "if setting == \"residual\":\n",
    "    cache_name = f\"blocks.{layer}.hook_resid_post\"\n",
    "    neurons = model.cfg.d_model\n",
    "elif setting == \"mlp\":\n",
    "    cache_name = f\"blocks.{layer}.mlp.hook_post\"\n",
    "    neurons = model.cfg.d_mlp\n",
    "elif setting == \"attention\":\n",
    "    cache_name = f\"blocks.{layer}.hook_attn_out\"\n",
    "    neurons = model.cfg.d_model\n",
    "elif setting == \"mlp_out\":\n",
    "    cache_name = f\"blocks.{layer}.hook_mlp_out\"\n",
    "    neurons = model.cfg.d_model\n",
    "else:\n",
    "    raise NotImplementedError"
   ]
  },
  {
   "cell_type": "code",
   "execution_count": 108,
   "metadata": {},
   "outputs": [],
   "source": [
    "# filename_pca = \"/mnt/ssd-cluster/baselines/l4_residual/pca_topk.pt\"\n",
    "# pca_topk = torch.load(filename_pca)\n",
    "# filename_ica = \"/mnt/ssd-cluster/baselines/l4_residual/ica_topk.pt\"\n",
    "# ica_topk = torch.load(filename_ica)\n",
    "# pca_dict = pca_topk.get_learned_dict()\n",
    "# ica_dict = ica_topk.get_learned_dict()"
   ]
  },
  {
   "cell_type": "code",
   "execution_count": 109,
   "metadata": {},
   "outputs": [
    {
     "name": "stdout",
     "output_type": "stream",
     "text": [
      "('# of features above 0.9:', 830)\n"
     ]
    },
    {
     "data": {
      "image/png": "[encoded data removed]",
      "text/plain": [
       "<Figure size 640x480 with 1 Axes>"
      ]
     },
     "metadata": {},
     "output_type": "display_data"
    }
   ],
   "source": [
    "from scipy.optimize import linear_sum_assignment\n",
    "import matplotlib.pyplot as plt\n",
    "#Dictionary Comparison\n",
    "smaller_dict_features, _ = smaller_dict.shape\n",
    "larger_dict_features, _ = larger_dict.shape\n",
    "larger_dict = larger_dict.to(device)\n",
    "# Hungary algorithm\n",
    "# Calculate all cosine similarities and store in a 2D array\n",
    "cos_sims = np.zeros((smaller_dict_features, larger_dict_features))\n",
    "for idx, vector in enumerate(smaller_dict):\n",
    "    cos_sims[idx] = torch.nn.functional.cosine_similarity(vector.to(device), larger_dict, dim=1).cpu().numpy()\n",
    "# Convert to a minimization problem\n",
    "cos_sims = 1 - cos_sims\n",
    "# Use the Hungarian algorithm to solve the assignment problem\n",
    "row_ind, col_ind = linear_sum_assignment(cos_sims)\n",
    "# Retrieve the max cosine similarities and corresponding indices\n",
    "max_cosine_similarities = 1 - cos_sims[row_ind, col_ind]\n",
    "\n",
    "# Get the indices of the max cosine similarities in descending order\n",
    "max_indices = np.argsort(max_cosine_similarities)[::-1].copy()\n",
    "print((\"# of features above 0.9:\", (max_cosine_similarities > .9).sum()))\n",
    "# Plot histogram of max_cosine_similarities\n",
    "plt.hist(max_cosine_similarities, bins=20)\n",
    "plt.show()"
   ]
  },
  {
   "cell_type": "code",
   "execution_count": 110,
   "metadata": {},
   "outputs": [
    {
     "name": "stderr",
     "output_type": "stream",
     "text": [
      "Found cached dataset parquet (/home/mchorse/.cache/huggingface/datasets/NeelNanda___parquet/NeelNanda--pile-10k-72f566e9f7c464ab/0.0.0/2a3b91fbd88a2c90d1dbbb32b460cf621d31bd5b05b934492fdef7d8d6f236ec)\n",
      "Loading cached processed dataset at /home/mchorse/.cache/huggingface/datasets/NeelNanda___parquet/NeelNanda--pile-10k-72f566e9f7c464ab/0.0.0/2a3b91fbd88a2c90d1dbbb32b460cf621d31bd5b05b934492fdef7d8d6f236ec/cache-f6e6ac7212ee56d9.arrow\n",
      "Loading cached processed dataset at /home/mchorse/.cache/huggingface/datasets/NeelNanda___parquet/NeelNanda--pile-10k-72f566e9f7c464ab/0.0.0/2a3b91fbd88a2c90d1dbbb32b460cf621d31bd5b05b934492fdef7d8d6f236ec/cache-9b3db0d5d224a28f.arrow\n",
      "Loading cached processed dataset at /home/mchorse/.cache/huggingface/datasets/NeelNanda___parquet/NeelNanda--pile-10k-72f566e9f7c464ab/0.0.0/2a3b91fbd88a2c90d1dbbb32b460cf621d31bd5b05b934492fdef7d8d6f236ec/cache-3c54b5187fad2bfb.arrow\n"
     ]
    }
   ],
   "source": [
    "# Downnload dataset\n",
    "from datasets import Dataset, load_dataset\n",
    "dataset_name = \"NeelNanda/pile-10k\"\n",
    "token_amount= 40\n",
    "dataset = load_dataset(dataset_name, split=\"train\").map(\n",
    "    lambda x: model.tokenizer(x['text']),\n",
    "    batched=True,\n",
    ").filter(\n",
    "    lambda x: len(x['input_ids']) > token_amount\n",
    ").map(\n",
    "    lambda x: {'input_ids': x['input_ids'][:token_amount]}\n",
    ")"
   ]
  },
  {
   "cell_type": "code",
   "execution_count": 111,
   "metadata": {},
   "outputs": [
    {
     "name": "stderr",
     "output_type": "stream",
     "text": [
      "100%|██████████| 155/155 [00:06<00:00, 22.81it/s]\n"
     ]
    }
   ],
   "source": [
    "# Now we can use the model to get the activations\n",
    "from torch.utils.data import DataLoader\n",
    "from tqdm.auto import tqdm\n",
    "from einops import rearrange\n",
    "# neurons = model.W_in.shape[-1]\n",
    "neurons = model.cfg.d_model\n",
    "datapoints = dataset.num_rows\n",
    "batch_size = 64\n",
    "neuron_activations = torch.zeros((datapoints*token_amount, neurons))\n",
    "dictionary_activations = torch.zeros((datapoints*token_amount, smaller_dict_features))\n",
    "smaller_autoencoder.to_device(device)\n",
    "\n",
    "with torch.no_grad(), dataset.formatted_as(\"pt\"):\n",
    "    dl = DataLoader(dataset[\"input_ids\"], batch_size=batch_size)\n",
    "    for i, batch in enumerate(tqdm(dl)):\n",
    "        _, cache = model.run_with_cache(batch.to(device))\n",
    "        batched_neuron_activations = rearrange(cache[cache_name], \"b s n -> (b s) n\" )\n",
    "        neuron_activations[i*batch_size*token_amount:(i+1)*batch_size*token_amount,:] = batched_neuron_activations.cpu()\n",
    "        # normal dictionary\n",
    "        batched_dictionary_activations = smaller_autoencoder.encode(batched_neuron_activations)\n",
    "        dictionary_activations[i*batch_size*token_amount:(i+1)*batch_size*token_amount,:] = batched_dictionary_activations.cpu()\n"
   ]
  },
  {
   "cell_type": "code",
   "execution_count": 112,
   "metadata": {},
   "outputs": [],
   "source": [
    "from circuitsvis.activations import text_neuron_activations\n",
    "# Get the activations for the best dict features\n",
    "def get_feature_datapoints(feature_index, dictionary_activations, dataset, k=10, setting=\"max\"):\n",
    "    best_feature_activations = dictionary_activations[:, feature_index]\n",
    "    # Sort the features by activation, get the indices\n",
    "    if setting==\"max\":\n",
    "        found_indices = torch.argsort(best_feature_activations, descending=True)[:k]\n",
    "    elif setting==\"uniform\":\n",
    "        min_value = torch.min(best_feature_activations)\n",
    "        max_value = torch.max(best_feature_activations)\n",
    "\n",
    "        # Define the number of bins\n",
    "        num_bins = k\n",
    "\n",
    "        # Calculate the bin boundaries as linear interpolation between min and max\n",
    "        bin_boundaries = torch.linspace(min_value, max_value, num_bins + 1)\n",
    "\n",
    "        # Assign each activation to its respective bin\n",
    "        bins = torch.bucketize(best_feature_activations, bin_boundaries)\n",
    "\n",
    "        # Initialize a list to store the sampled indices\n",
    "        sampled_indices = []\n",
    "\n",
    "        # Sample from each bin\n",
    "        for bin_idx in torch.unique(bins):\n",
    "            # Get the indices corresponding to the current bin\n",
    "            bin_indices = torch.nonzero(bins == bin_idx, as_tuple=False).squeeze(dim=1)\n",
    "            \n",
    "            # Randomly sample from the current bin\n",
    "            sampled_indices.extend(np.random.choice(bin_indices, size=1, replace=False))\n",
    "\n",
    "        # Convert the sampled indices to a PyTorch tensor & reverse order\n",
    "        found_indices = torch.tensor(sampled_indices).long().flip(dims=[0])\n",
    "    else: # random\n",
    "        # get nonzero indices\n",
    "        nonzero_indices = torch.nonzero(best_feature_activations)[:, 0]\n",
    "        # shuffle\n",
    "        shuffled_indices = nonzero_indices[torch.randperm(nonzero_indices.shape[0])]\n",
    "        found_indices = shuffled_indices[:k]\n",
    "    datapoint_indices =[np.unravel_index(i, (datapoints, token_amount)) for i in found_indices]\n",
    "    text_list = []\n",
    "    full_text = []\n",
    "    token_list = []\n",
    "    full_token_list = []\n",
    "    for md, s_ind in datapoint_indices:\n",
    "        md = int(md)\n",
    "        s_ind = int(s_ind)\n",
    "        full_tok = torch.tensor(dataset[md][\"input_ids\"])\n",
    "        full_text.append(model.tokenizer.decode(full_tok))\n",
    "        tok = dataset[md][\"input_ids\"][:s_ind+1]\n",
    "        text = model.tokenizer.decode(tok)\n",
    "        text_list.append(text)\n",
    "        token_list.append(tok)\n",
    "        full_token_list.append(full_tok)\n",
    "    return text_list, full_text, token_list, full_token_list\n",
    "\n",
    "def get_neuron_activation(token, feature, model, autoencoder, setting=\"dictionary_basis\"):\n",
    "    with torch.no_grad():\n",
    "        _, cache = model.run_with_cache(token.to(model.cfg.device))\n",
    "        neuron_act_batch = cache[cache_name]\n",
    "        if setting==\"dictionary_basis\":\n",
    "            neuron_act_batch = rearrange(neuron_act_batch, \"b s n -> (b s) n\" )\n",
    "            act = autoencoder.encode(neuron_act_batch)\n",
    "            return act[:, feature].tolist()\n",
    "        else: # neuron/residual basis\n",
    "            return neuron_act_batch[0, :, feature].tolist()\n",
    "\n",
    "def ablate_text(text, feature, model, autoencoder, setting=\"dictionary_basis\"):\n",
    "    if isinstance(text, str):\n",
    "        text = [text]\n",
    "    display_text_list = []\n",
    "    activation_list = []\n",
    "    for t in text:\n",
    "        # Convert text into tokens\n",
    "        if isinstance(t, str): # If the text is a list of tokens\n",
    "            split_text = model.to_str_tokens(t, prepend_bos=False)\n",
    "            tokens = model.to_tokens(t, prepend_bos=False)\n",
    "        else: # t equals tokens\n",
    "            tokens = t\n",
    "            split_text = model.to_str_tokens(t, prepend_bos=False)\n",
    "        seq_size = tokens.shape[1]\n",
    "        if(seq_size == 1): # If the text is a single token, we can't ablate it\n",
    "            continue\n",
    "        original = get_neuron_activation(tokens, feature, model, autoencoder)[-1]\n",
    "        changed_activations = torch.zeros(seq_size, device=device).cpu()\n",
    "        for i in range(seq_size):\n",
    "            # Remove the i'th token from the input\n",
    "            ablated_tokens = torch.cat((tokens[:,:i], tokens[:,i+1:]), dim=1)\n",
    "            changed_activations[i] += get_neuron_activation(ablated_tokens, feature, model,autoencoder, setting)[-1]\n",
    "        changed_activations -= original\n",
    "        display_text_list += [x.replace('\\n', '\\\\newline') for x in split_text] + [\"\\n\"]\n",
    "        activation_list += changed_activations.tolist() + [0.0]\n",
    "    activation_list = torch.tensor(activation_list).reshape(-1,1,1)\n",
    "    return text_neuron_activations(tokens=display_text_list, activations=activation_list)\n",
    "\n",
    "def visualize_text(text, feature, model, autoencoder, setting=\"dictionary_basis\", max_activation = None):\n",
    "    if isinstance(text, str):\n",
    "        text = [text]\n",
    "    if isinstance(feature, int):\n",
    "        feature = [feature]\n",
    "    display_text_list = []\n",
    "    act_list = []\n",
    "    for t in text:\n",
    "        if isinstance(t, str): # If the text is a list of tokens\n",
    "            split_text = model.to_str_tokens(t, prepend_bos=False)\n",
    "            token = model.to_tokens(t, prepend_bos=False)\n",
    "        else: # t are tokens\n",
    "            token = t\n",
    "            split_text = model.to_str_tokens(t, prepend_bos=False)\n",
    "        for f in feature:\n",
    "            display_text_list += [x.replace('\\n', '\\\\newline') for x in split_text] + [\"\\n\"]\n",
    "            act_list += get_neuron_activation(token, f, model, autoencoder, setting) + [0.0]\n",
    "    act_list = torch.tensor(act_list).reshape(-1,1,1)\n",
    "    if(max_activation is not None):\n",
    "        act_list = torch.clamp(act_list, max=max_activation)\n",
    "    return text_neuron_activations(tokens=display_text_list, activations=act_list)\n",
    "# Ablate the feature direction of the tokens\n",
    "# token_list is a list of tokens, convert to tensor of shape (batch_size, seq_len)\n",
    "from einops import rearrange\n",
    "def ablate_feature_direction(tokens, feature, model, autoencoder):\n",
    "    def mlp_ablation_hook(value, hook):\n",
    "        # Rearrange to fit autoencoder\n",
    "        int_val = rearrange(value, 'b s h -> (b s) h')\n",
    "\n",
    "        # Run through the autoencoder\n",
    "        act = autoencoder.encode(int_val)\n",
    "        feature_to_ablate = feature # TODO: bring this out of the function\n",
    "\n",
    "        # Subtract value with feature direction*act_of_feature\n",
    "        dictionary_for_this_autoencoder = autoencoder.get_learned_dict()\n",
    "        feature_direction = torch.outer(act[:, feature_to_ablate].squeeze(), dictionary_for_this_autoencoder[feature_to_ablate].squeeze())\n",
    "        batch, seq_len, hidden_size = value.shape\n",
    "        feature_direction = rearrange(feature_direction, '(b s) h -> b s h', b=batch, s=seq_len)\n",
    "        value -= feature_direction\n",
    "        return value\n",
    "\n",
    "    return model.run_with_hooks(tokens, \n",
    "        fwd_hooks=[(\n",
    "            cache_name, \n",
    "            mlp_ablation_hook\n",
    "            )]\n",
    "        )\n",
    "def add_feature_direction(tokens, feature, model, autoencoder, scalar=1.0):\n",
    "    def residual_add_hook(value, hook):\n",
    "        feature_direction = autoencoder.decoder.weight[:, feature].squeeze()\n",
    "        value += scalar*feature_direction\n",
    "        return value\n",
    "\n",
    "    return model.run_with_hooks(tokens, \n",
    "        fwd_hooks=[(\n",
    "            cache_name,\n",
    "            residual_add_hook\n",
    "            )]\n",
    "        )\n",
    "def ablate_feature_direction_display(text, features, autoencoder, setting=\"true_tokens\", verbose=False):\n",
    "\n",
    "    if features==None:\n",
    "        features = torch.tensor([best_feature])\n",
    "    if isinstance(features, int):\n",
    "        features = torch.tensor([features])\n",
    "    if isinstance(features, list):\n",
    "        features = torch.tensor(features)\n",
    "    if isinstance(text, str):\n",
    "        text = [text]\n",
    "    text_list = []\n",
    "    logit_list = []\n",
    "    for t in text:\n",
    "        tokens = model.to_tokens(t, prepend_bos=False)\n",
    "        with torch.no_grad():\n",
    "            original_logits = model(tokens).log_softmax(-1).cpu()\n",
    "            ablated_logits = ablate_feature_direction(tokens, features, model, autoencoder).log_softmax(-1).cpu()\n",
    "        diff_logits = ablated_logits  - original_logits# ablated > original -> negative diff\n",
    "        tokens = tokens.cpu()\n",
    "        if setting == \"true_tokens\":\n",
    "            split_text = model.to_str_tokens(t, prepend_bos=False)\n",
    "            gather_tokens = rearrange(tokens[:,1:], \"b s -> b s 1\") # TODO: verify this is correct\n",
    "            # Gather the logits for the true tokens\n",
    "            diff = rearrange(diff_logits[:, :-1].gather(-1,gather_tokens), \"b s n -> (b s n)\")\n",
    "        elif setting == \"max\":\n",
    "            # Negate the diff_logits to see which tokens have the largest effect on the neuron\n",
    "            val, ind = (-1*diff_logits).max(-1)\n",
    "            diff = rearrange(val[:, :-1], \"b s -> (b s)\")\n",
    "            diff*= -1 # Negate the values gathered\n",
    "            split_text = model.to_str_tokens(ind, prepend_bos=False)\n",
    "            gather_tokens = rearrange(ind[:,1:], \"1 s -> 1 s 1\")\n",
    "        split_text = split_text[1:] # Remove the first token since we're not predicting it\n",
    "        if(verbose):\n",
    "            text_list += [x.replace('\\n', '\\\\newline') for x in split_text] + [\"\\n\"]\n",
    "            text_list += [x.replace('\\n', '\\\\newline') for x in split_text] + [\"\\n\"]\n",
    "            orig = rearrange(original_logits[:, :-1].gather(-1, gather_tokens), \"b s n -> (b s n)\")\n",
    "            ablated = rearrange(ablated_logits[:, :-1].gather(-1, gather_tokens), \"b s n -> (b s n)\")\n",
    "            logit_list += orig.tolist() + [0.0]\n",
    "            logit_list += ablated.tolist() + [0.0]\n",
    "        text_list += [x.replace('\\n', '\\\\newline') for x in split_text] + [\"\\n\"]\n",
    "        logit_list += diff.tolist() + [0.0]\n",
    "    logit_list = torch.tensor(logit_list).reshape(-1,1,1)\n",
    "    if verbose:\n",
    "        print(f\"Max & Min logit-diff: {logit_list.max().item():.2f} & {logit_list.min().item():.2f}\")\n",
    "    return text_neuron_activations(tokens=text_list, activations=logit_list)\n",
    "def generate_text(input_text, num_tokens, model, autoencoder, feature, temperature=0.7, setting=\"add\", scalar=1.0):\n",
    "    # Convert input text to tokens\n",
    "    input_ids = model.tokenizer.encode(input_text, return_tensors='pt').to(device)\n",
    "\n",
    "    for _ in range(num_tokens):\n",
    "        # Generate logits\n",
    "        with torch.no_grad():\n",
    "            if(setting==\"add\"):\n",
    "                logits = add_feature_direction(input_ids, feature, model, autoencoder, scalar=scalar)\n",
    "            else:\n",
    "                logits = model(input_ids)\n",
    "\n",
    "        # Apply temperature\n",
    "        logits = logits / temperature\n",
    "\n",
    "        # Sample from the distribution\n",
    "        probs = torch.nn.functional.softmax(logits[:, -1, :], dim=-1)\n",
    "        predicted_token = torch.multinomial(probs, num_samples=1)\n",
    "\n",
    "        # Append predicted token to input_ids\n",
    "        input_ids = torch.cat((input_ids, predicted_token), dim=-1)\n",
    "\n",
    "    # Decode the tokens to text\n",
    "    output_text = model.tokenizer.decode(input_ids[0])\n",
    "\n",
    "    return output_text\n",
    "\n",
    "# Logit Lens\n",
    "def logit_lens(model, best_feature, smaller_dict, layer):\n",
    "    with torch.no_grad():\n",
    "        # There are never-used tokens, which have high norm. We want to ignore these.\n",
    "        bad_ind = (model.W_U.norm(dim=0) > 20)\n",
    "        feature_direction = smaller_dict[best_feature].to(device)\n",
    "        # feature_direction = torch.matmul(feature_direction, model.W_out[layer]) # if MLP\n",
    "        logits = torch.matmul(feature_direction, model.W_U).cpu()\n",
    "    # Don't include bad indices\n",
    "    logits[bad_ind] = -1000\n",
    "    topk_values, topk_indices = torch.topk(logits, 20)\n",
    "    top_text = model.to_str_tokens(topk_indices)\n",
    "    print(f\"{top_text}\")\n",
    "    print(topk_values)\n"
   ]
  },
  {
   "cell_type": "code",
   "execution_count": 155,
   "metadata": {},
   "outputs": [],
   "source": [
    "import re\n",
    "import numpy as np\n",
    "\n",
    "# Assuming you have a tokenizer like this (for example, from HuggingFace's tokenizers)\n",
    "  # Replace with your tokenizer\n",
    "\n",
    "def char_to_token_position(tokenized_output, char_idx):\n",
    "    \"\"\"\n",
    "    Given a char-level index in the original string, find the corresponding token-level index.\n",
    "    \"\"\"\n",
    "    token_positions = tokenized_output.char_to_token(char_idx)\n",
    "    return token_positions\n",
    "\n",
    "def find_text_in_regex(tokens, regex_pattern):\n",
    "    \"\"\"\n",
    "    Find tokens inside parentheses and return token-level start and end indices.\n",
    "    \"\"\"\n",
    "    detokenized_text = model.tokenizer.decode(tokens.input_ids)\n",
    "    \n",
    "    # Find matches in the detokenized text\n",
    "    pattern = re.compile(regex_pattern)\n",
    "    matches = pattern.finditer(detokenized_text)\n",
    "    \n",
    "    token_positions = []\n",
    "    for match in matches:\n",
    "        start_char, end_char = match.span()\n",
    "        start_token = char_to_token_position(tokens, start_char)\n",
    "        end_token = char_to_token_position(tokens, end_char)\n",
    "        token_positions.append((start_token, end_token))\n",
    "    return token_positions\n",
    "\n",
    "\n",
    "import numpy as np\n",
    "import matplotlib.pyplot as plt\n",
    "import seaborn as sns\n",
    "from collections import Counter\n",
    "\n",
    "def prepare_data(best_feature_activations,  num_bins=10):\n",
    "    min_value = torch.min(best_feature_activations)\n",
    "    max_value = torch.max(best_feature_activations)\n",
    "    bin_boundaries = torch.linspace(min_value, max_value, num_bins+1)\n",
    "    bins = torch.bucketize(best_feature_activations, bin_boundaries)\n",
    "    return bin_boundaries, bins\n",
    "\n",
    "def compute_bar_positions(bin_boundaries):\n",
    "    barWidth = (bin_boundaries[1] - bin_boundaries[0]) * 0.8\n",
    "    r = (bin_boundaries[:-1] + bin_boundaries[1:]) / 2\n",
    "    return r, barWidth\n",
    "\n",
    "def process_data_type1(bins, dataset, num_bins, num_unique_tokens, model):\n",
    "    nonzero = bins.nonzero()[:,0]\n",
    "    datapoint_indices = [np.unravel_index(i, (datapoints, token_amount)) for i in nonzero]\n",
    "    max_token = [dataset[int(md)][\"input_ids\"][int(s_ind)] for md, s_ind in datapoint_indices]\n",
    "    \n",
    "    ac = Counter(max_token)\n",
    "    max_tokens = [token_ind for token_ind, count in ac.most_common(num_unique_tokens)]\n",
    "    token_dict = {token: np.zeros(num_bins) for token in max_tokens}\n",
    "    misc_count = np.zeros(num_bins)\n",
    "\n",
    "    for i in range(1, num_bins+1):\n",
    "        bin_tokens_ind = (bins == i).nonzero()[:,0]\n",
    "        datapoint_indices = [np.unravel_index(ind, (datapoints, token_amount)) for ind in bin_tokens_ind]\n",
    "        max_token = [dataset[int(md)][\"input_ids\"][int(s_ind)] for md, s_ind in datapoint_indices]\n",
    "        \n",
    "        total_tokens = len(max_token)\n",
    "        running_count = 0\n",
    "        ac = Counter(max_token)\n",
    "        for token_ind, count in ac.most_common(10):\n",
    "            if token_ind in max_tokens:\n",
    "                token_dict[token_ind][i-1] = count\n",
    "                running_count += count\n",
    "        misc_count[i-1] = total_tokens - running_count\n",
    "\n",
    "    max_text = [model.tokenizer.decode([token]) for token in max_tokens]\n",
    "    return token_dict, misc_count, max_tokens, max_text\n",
    "\n",
    "def process_data_type2(bins, dataset, num_bins, masks):\n",
    "    regex_matches_vs_nonmatches = np.zeros((num_bins, 2))\n",
    "    all_non_matched_tokens = []\n",
    "    non_matched_all_tokens = []\n",
    "    for i in range(1,num_bins+1):\n",
    "        bin_tokens_ind = (bins == i).nonzero()[:,0]\n",
    "        datapoint_indices = [np.unravel_index(i, (datapoints, token_amount)) for i in bin_tokens_ind]\n",
    "        for md, s_ind in datapoint_indices:\n",
    "            md = int(md)\n",
    "            s_ind = int(s_ind)\n",
    "            regex_matches_vs_nonmatches[i-1, masks[md][s_ind]] += 1\n",
    "            if not masks[md][s_ind]:\n",
    "                all_non_matched_tokens.append(dataset[md][\"input_ids\"][s_ind])\n",
    "                non_matched_all_tokens.append(dataset[md][\"input_ids\"][:s_ind+1])\n",
    "    return regex_matches_vs_nonmatches, all_non_matched_tokens\n",
    "\n",
    "def plot_data_type1(r, barWidth, bin_boundaries, data):\n",
    "    import matplotlib.font_manager as fm\n",
    "    fprop = fm.FontProperties(fname='NotoSansCJKtc-Regular.otf')\n",
    "    token_dict, misc_count, max_tokens, max_text = data\n",
    "    colors = sns.color_palette('colorblind', len(max_tokens) + 1)\n",
    "    running_sum = np.zeros(len(bin_boundaries) - 1)\n",
    "    for i in range(len(max_tokens)):\n",
    "        token_id_name = max_tokens[i]\n",
    "        token_count_array = token_dict[token_id_name]\n",
    "        text_label = max_text[i]\n",
    "        plt.bar(r, token_count_array, bottom=running_sum, label=text_label, color=colors[i], width=barWidth)\n",
    "        running_sum += token_count_array\n",
    "    plt.bar(r, misc_count, bottom=running_sum, label='[All Other Tokens]', color=colors[-1], width=barWidth)\n",
    "    plt.title(f'Token Count for Feature {feature_index} Across Activation Ranges')\n",
    "    plt.xlabel('Activation')\n",
    "    plt.xticks(bin_boundaries, [f\"{val:.2f}\" for val in bin_boundaries])\n",
    "    plt.legend()\n",
    "    plt.tight_layout()\n",
    "    plt.show()\n",
    "\n",
    "def plot_data_type2(r, barWidth, bin_boundaries, data, regex_pattern):\n",
    "    regex_matches_vs_nonmatches, all_non_matched_tokens = data\n",
    "    colors = sns.color_palette('deep', regex_matches_vs_nonmatches.shape[1] + 1)\n",
    "    running_sum = np.zeros(len(bin_boundaries) - 1)\n",
    "    for i in range(regex_matches_vs_nonmatches.shape[1]):\n",
    "        text_label = regex_pattern if i == 0 else \"non-matches\"\n",
    "        token_count_array = regex_matches_vs_nonmatches[:, (i+1)%2]\n",
    "        plt.bar(r, token_count_array, bottom=running_sum, label=text_label, color=colors[i], width=barWidth)\n",
    "        running_sum += token_count_array\n",
    "    plt.title(f'Token Count for Feature {feature_index} Across Activation Ranges')\n",
    "    plt.xlabel('Activation')\n",
    "    plt.xticks(bin_boundaries, [f\"{val:.2f}\" for val in bin_boundaries])\n",
    "    plt.legend()\n",
    "    plt.tight_layout()\n",
    "    plt.show()\n",
    "\n",
    "import numpy as np\n",
    "\n",
    "def generate_masks(dataset, model, token_amount, regex_pattern, extra_token_amount=2, remove_first_token=False):\n",
    "    \"\"\"\n",
    "    Generates masks based on a regex pattern.\n",
    "\n",
    "    Parameters:\n",
    "    - dataset: dataset containing the texts to be searched\n",
    "    - model: the model containing the tokenizer\n",
    "    - feature_index: index of the feature (not used in the function based on given code, but kept for consistency)\n",
    "    - token_amount: limit to number of tokens to be considered from the tokenized text\n",
    "    - regex_pattern: the regular expression pattern to be searched for\n",
    "    - extra_token_amount: additional tokens to consider\n",
    "\n",
    "    Returns:\n",
    "    - masks: a list of masks generated based on the regex_pattern\n",
    "    \"\"\"\n",
    "    texts = dataset[\"text\"]\n",
    "    masks = []\n",
    "\n",
    "    for text_ind, text in enumerate(texts):\n",
    "        tokens = model.tokenizer(text)\n",
    "        tokens['input_ids'] = tokens['input_ids'][:token_amount + extra_token_amount]\n",
    "        token_positions = find_text_in_regex(tokens, regex_pattern=regex_pattern)\n",
    "        mask = np.zeros(token_amount, dtype=int)  # Initial mask\n",
    "        for start, end in token_positions:\n",
    "            if end is None:\n",
    "                print(\"No match found for text: \", model.tokenizer.decode(tokens.input_ids))\n",
    "                print(start, end)\n",
    "                continue\n",
    "            if end > token_amount:\n",
    "                end = token_amount\n",
    "            mask[start:end] = 1\n",
    "        if remove_first_token: # If we're doing the output, we never predict the first token\n",
    "            mask[0] = 0\n",
    "        masks.append(mask)\n",
    "    return masks"
   ]
  },
  {
   "cell_type": "code",
   "execution_count": 170,
   "metadata": {},
   "outputs": [
    {
     "name": "stdout",
     "output_type": "stream",
     "text": [
      "Activations: [5.56, 1.7, 1.66, 1.38, 1.03, 0.58, 0.44, 0.35, 0.27, 0.21]\n",
      "Feature_ids [1972, 1154, 1630, 1468, 696, 1923, 1911, 322, 1473, 1970]\n"
     ]
    }
   ],
   "source": [
    "# Feature Search\n",
    "# t = \" Bratwurst, Sauerkraut, und Bier\"\n",
    "# t = \"我们一起去玩吧\"\n",
    "# t = \"for i in range\"\n",
    "# t = \" I don't know about that. It is now up to Dave'\"\n",
    "# t = \" I don't know about that. You shouldn'\"\n",
    "t = \"x = 3\\nif(x == 3):\"\n",
    "# t = \" I like to eat them at National Institute of Justice (NIJ\"\n",
    "# t = \" I like to eat them at National Institute of Justice (\"\n",
    "# t = \" I like to eat them but (NIJ\"\n",
    "# t = \"いさんさん��に\"\n",
    "with torch.no_grad():\n",
    "    split_text = model.to_str_tokens(t, prepend_bos=False)\n",
    "    token = model.to_tokens(t, prepend_bos=False)\n",
    "    _, cache = model.run_with_cache(token.to(model.cfg.device))\n",
    "    neuron_act_batch = cache[cache_name]\n",
    "    act = smaller_autoencoder.encode(neuron_act_batch.squeeze())\n",
    "    v, i = act[-1, :].topk(10)\n",
    "\n",
    "print(\"Activations:\",[round(val,2) for val in v.tolist()])\n",
    "print(\"Feature_ids\", i.tolist())"
   ]
  },
  {
   "cell_type": "code",
   "execution_count": 171,
   "metadata": {},
   "outputs": [
    {
     "name": "stdout",
     "output_type": "stream",
     "text": [
      "tensor(381523)\n",
      "tensor(177347)\n",
      "tensor(221)\n",
      "tensor(11464)\n",
      "tensor(94997)\n",
      "tensor(5258)\n"
     ]
    }
   ],
   "source": [
    "for feature_ind in range(6):\n",
    "    print(dictionary_activations[:,i[feature_ind].item()].count_nonzero())"
   ]
  },
  {
   "cell_type": "code",
   "execution_count": 232,
   "metadata": {},
   "outputs": [
    {
     "data": {
      "image/png": "[encoded data removed]",
      "text/plain": [
       "<Figure size 640x480 with 1 Axes>"
      ]
     },
     "metadata": {},
     "output_type": "display_data"
    }
   ],
   "source": [
    "# Token level\n",
    "feature_index = 1087 # dictionary 858, 101\n",
    "# feature_index = 513 # PCA\n",
    "# feature_index = 966 # ICA\n",
    "# feature_index = 21 # neuron\n",
    "num_bins=10\n",
    "bin_boundaries, bins = prepare_data(dictionary_activations[:, feature_index])\n",
    "# activations, bin_boundaries, bins = prepare_data(pca_dictionary_activations, feature_index)\n",
    "# bin_boundaries, bins = prepare_data(just_negative[:, feature_index])\n",
    "r, barWidth = compute_bar_positions(bin_boundaries)\n",
    "title = f\"Token Count for Feature {feature_index} Neuron Basis\"\n",
    "data1 = process_data_type1(bins, dataset, num_bins, num_unique_tokens=9, model=model)\n",
    "# counts, _ = np.histogram(just_negative[:,feature_index].abs(), bins=bin_boundaries)\n",
    "\n",
    "# # `counts` now holds the number of activations in each bin defined by bin_boundaries.\n",
    "all_variables = (r, barWidth, bin_boundaries, data1,title)\n",
    "# with open(f\"images/if_feature.pkl\", 'wb') as f:\n",
    "#     pickle.dump(all_variables, f)\n",
    "plot_data_type1(r, barWidth, bin_boundaries, data1)"
   ]
  },
  {
   "cell_type": "code",
   "execution_count": 218,
   "metadata": {},
   "outputs": [
    {
     "name": "stderr",
     "output_type": "stream",
     "text": [
      "  0%|          | 0/155 [00:00<?, ?it/s]"
     ]
    },
    {
     "name": "stderr",
     "output_type": "stream",
     "text": [
      "100%|██████████| 155/155 [00:07<00:00, 21.87it/s]\n"
     ]
    }
   ],
   "source": [
    "#Find the ablated activations when ablating this direction\n",
    "ablated_dictionary_activations = torch.zeros((datapoints, token_amount))\n",
    "\n",
    "with torch.no_grad(), dataset.formatted_as(\"pt\"):\n",
    "    dl = DataLoader(dataset[\"input_ids\"], batch_size=batch_size)\n",
    "    for i, batch in enumerate(tqdm(dl)):\n",
    "        batch = batch.to(device)\n",
    "        original_logits = model(batch).log_softmax(dim=-1)\n",
    "        ablated_logits = ablate_feature_direction(batch, feature_index, model, smaller_autoencoder).log_softmax(dim=-1)\n",
    "        logit_diff = original_logits - ablated_logits\n",
    "        # Remove last token since no ground truth to compare to\n",
    "        logit_diff = logit_diff[:,:-1,:]\n",
    "        # Remove first token since not predicting it\n",
    "        tokens_to_search_for = batch[:,1:]\n",
    "        # Find the logit difference for the token we are looking for\n",
    "        correct_logit_diff = logit_diff.gather(dim=-1, index=tokens_to_search_for.unsqueeze(-1)).squeeze(-1)\n",
    "        # Add to dictionary\n",
    "        ablated_dictionary_activations[i*batch_size:(i+1)*batch_size,1:] = correct_logit_diff.cpu()"
   ]
  },
  {
   "cell_type": "code",
   "execution_count": 46,
   "metadata": {},
   "outputs": [
    {
     "name": "stderr",
     "output_type": "stream",
     "text": [
      "  0%|          | 0/155 [00:00<?, ?it/s]"
     ]
    },
    {
     "name": "stderr",
     "output_type": "stream",
     "text": [
      "  0%|          | 0/155 [00:00<?, ?it/s]\n"
     ]
    }
   ],
   "source": [
    "# import torch\n",
    "\n",
    "# # Assuming vocab_size, model, tokens, and hook are already defined\n",
    "# causal_tokens = np.zeros(model.cfg.d_vocab)\n",
    "# k = 10\n",
    "# with torch.no_grad(), dataset.formatted_as(\"pt\"):\n",
    "#     dl = DataLoader(dataset[\"input_ids\"], batch_size=batch_size)\n",
    "#     for i, batch in enumerate(tqdm(dl)):\n",
    "#         batch = batch.to(device)\n",
    "#         original_logits = model(batch).log_softmax(dim=-1)\n",
    "#         ablated_logits = ablate_feature_direction(batch, feature_index, model, smaller_autoencoder).log_softmax(dim=-1)\n",
    "\n",
    "#         # Find tokens that highly activate in original, and see their corresponding difference in ablated for just those k tokens\n",
    "#         topk_logits_original_indices = torch.topk(original_logits, k, dim=1).indices\n",
    "#         original_values_at_topk_ablated = torch.gather(ablated_logits, 1, topk_logits_original_indices)\n",
    "#         diff_original_ablated = original_logits.gather(1, topk_logits_original_indices) - original_values_at_topk_ablated\n",
    "\n",
    "#         # Add to causal tokens\n",
    "#         causal_tokens[topk_logits_original_indices.cpu().numpy()] += diff_original_ablated.squeeze().cpu().numpy()\n",
    "\n",
    "#         # Repeat for ablated model\n",
    "#         topk_logits_ablated_indices = torch.topk(ablated_logits, k, dim=1).indices\n",
    "#         ablated_values_at_topk_original = torch.gather(original_logits, 1, topk_logits_ablated_indices)\n",
    "#         diff_ablated_original = ablated_logits.gather(1, topk_logits_ablated_indices) - ablated_values_at_topk_original\n",
    "\n",
    "#         # Add to causal tokens (Note: this operation will modify the original entries, hence the need to recompute them)\n",
    "#         causal_tokens[topk_logits_ablated_indices.cpu().numpy()] += diff_ablated_original.squeeze().cpu().numpy()\n",
    "\n",
    "#         # Find tokens with the most positive and negative difference\n",
    "#         worse_tokens_ind = np.argpartition(causal_tokens, -k)[-k:]\n",
    "#         best_tokens_ind = np.argpartition(causal_tokens, k)[:k]\n",
    "\n",
    "#         worse_tokens_val = causal_tokens[worse_tokens_ind]\n",
    "#         best_tokens_val = causal_tokens[best_tokens_ind]\n",
    "\n",
    "#         # Convert token indices to text (assuming a decode function exists)\n",
    "#         worse_tokens_text = [model.tokenizer.decode([ind]) for ind in worse_tokens_ind]\n",
    "#         best_tokens_text = [model.tokenizer.decode([ind]) for ind in best_tokens_ind]\n",
    "#         break"
   ]
  },
  {
   "cell_type": "code",
   "execution_count": 51,
   "metadata": {},
   "outputs": [
    {
     "data": {
      "text/plain": [
       "(tensor(25143), tensor(12537))"
      ]
     },
     "execution_count": 51,
     "metadata": {},
     "output_type": "execute_result"
    }
   ],
   "source": [
    "ablated_dictionary_activations.count_nonzero(), (ablated_dictionary_activations < 0).count_nonzero()"
   ]
  },
  {
   "cell_type": "code",
   "execution_count": 52,
   "metadata": {},
   "outputs": [
    {
     "data": {
      "text/plain": [
       "(torch.Size([9862, 39]), torch.Size([6, 39]))"
      ]
     },
     "execution_count": 52,
     "metadata": {},
     "output_type": "execute_result"
    }
   ],
   "source": [
    "ablated_dictionary_activations.shape, correct_logit_diff.shape"
   ]
  },
  {
   "cell_type": "code",
   "execution_count": 55,
   "metadata": {},
   "outputs": [
    {
     "data": {
      "text/plain": [
       "tensor([0., 0., 0.,  ..., 0., 0., 0.])"
      ]
     },
     "execution_count": 55,
     "metadata": {},
     "output_type": "execute_result"
    }
   ],
   "source": [
    "# make ablated_dictionary_activations go from shape (a,b) -> (a*b)\n",
    "rearrange(ablated_dictionary_activations, 'datapoints token_amount -> (datapoints token_amount)')"
   ]
  },
  {
   "cell_type": "code",
   "execution_count": 229,
   "metadata": {},
   "outputs": [
    {
     "name": "stdout",
     "output_type": "stream",
     "text": [
      "Total number of negative values:  3293\n",
      "Total number of positive values:  2849\n"
     ]
    },
    {
     "data": {
      "text/plain": [
       "(tensor(92), tensor(66))"
      ]
     },
     "execution_count": 229,
     "metadata": {},
     "output_type": "execute_result"
    }
   ],
   "source": [
    "rearranged_ablated = rearrange(ablated_dictionary_activations, 'datapoints token_amount -> (datapoints token_amount)')\n",
    "total_below_zero = (rearranged_ablated < 0).count_nonzero().item()\n",
    "total_above_zero = (rearranged_ablated > 0).count_nonzero().item()\n",
    "print(\"Total number of negative values: \", total_below_zero)\n",
    "print(\"Total number of positive values: \", total_above_zero)\n",
    "positive_threshold = 0.1\n",
    "negative_threshold = 0.1\n",
    "positive_only = rearranged_ablated.clone().clamp(min=0)\n",
    "positive_only[positive_only < positive_threshold] = 0\n",
    "negative_only = rearranged_ablated.clone().clamp(max=0).abs()\n",
    "negative_only[negative_only < negative_threshold] = 0\n",
    "positive_only.count_nonzero(), negative_only.count_nonzero()"
   ]
  },
  {
   "cell_type": "code",
   "execution_count": 97,
   "metadata": {},
   "outputs": [
    {
     "data": {
      "text/plain": [
       "tensor(0.0643)"
      ]
     },
     "execution_count": 97,
     "metadata": {},
     "output_type": "execute_result"
    }
   ],
   "source": [
    "positive_only.count_nonzero() / total_above_zero"
   ]
  },
  {
   "cell_type": "code",
   "execution_count": 231,
   "metadata": {},
   "outputs": [
    {
     "data": {
      "image/png": "[encoded data removed]",
      "text/plain": [
       "<Figure size 640x480 with 1 Axes>"
      ]
     },
     "metadata": {},
     "output_type": "display_data"
    }
   ],
   "source": [
    "# Token level\n",
    "num_bins=10\n",
    "# bin_boundaries, bins = prepare_data(negative_only)\n",
    "bin_boundaries, bins = prepare_data(positive_only)\n",
    "r, barWidth = compute_bar_positions(bin_boundaries)\n",
    "title = f\"Token Count for Feature {feature_index} Neuron Basis\"\n",
    "data1 = process_data_type1(bins, dataset, num_bins, num_unique_tokens=9, model=model)\n",
    "all_variables = (r, barWidth, bin_boundaries, data1, title, total_above_zero, positive_threshold)\n",
    "# with open(f\"images/if_feature_effect.pkl\", 'wb') as f:\n",
    "#     pickle.dump(all_variables, f)\n",
    "plot_data_type1(r, barWidth, bin_boundaries, data1)"
   ]
  },
  {
   "cell_type": "code",
   "execution_count": 93,
   "metadata": {},
   "outputs": [
    {
     "data": {
      "image/png": "[encoded data removed]",
      "text/plain": [
       "<Figure size 640x480 with 1 Axes>"
      ]
     },
     "metadata": {},
     "output_type": "display_data"
    }
   ],
   "source": [
    "# Token level\n",
    "feature_index = 556 # dictionary\n",
    "# feature_index = 513 # PCA\n",
    "# feature_index = 966 # ICA\n",
    "# feature_index = 21 # neuron\n",
    "num_bins=10\n",
    "bin_boundaries, bins = prepare_data(negative_only)\n",
    "# bin_boundaries, bins = prepare_data(positive_only)\n",
    "# activations, bin_boundaries, bins = prepare_data(pca_dictionary_activations, feature_index)\n",
    "# bin_boundaries, bins = prepare_data(just_negative[:, feature_index])\n",
    "r, barWidth = compute_bar_positions(bin_boundaries)\n",
    "title = f\"Token Count for Feature {feature_index} Neuron Basis\"\n",
    "data1 = process_data_type1(bins, dataset, num_bins, num_unique_tokens=9, model=model)\n",
    "# counts, _ = np.histogram(just_negative[:,feature_index].abs(), bins=bin_boundaries)\n",
    "\n",
    "# # `counts` now holds the number of activations in each bin defined by bin_boundaries.\n",
    "# all_variables = (r, barWidth, bin_boundaries, data1, title, total_below_zero, negative_threshold)\n",
    "# with open(f\"images/apostrophe_effect_negative.pkl\", 'wb') as f:\n",
    "#     pickle.dump(all_variables, f)\n",
    "plot_data_type1(r, barWidth, bin_boundaries, data1, model)"
   ]
  },
  {
   "cell_type": "code",
   "execution_count": 12,
   "metadata": {},
   "outputs": [
    {
     "data": {
      "image/png": "[encoded data removed]",
      "text/plain": [
       "<Figure size 640x480 with 1 Axes>"
      ]
     },
     "metadata": {},
     "output_type": "display_data"
    }
   ],
   "source": [
    "# feature_index = 2808\n",
    "# regex_pattern =  r'(?<=\\().*?(?=\\))'\n",
    "# regex_pattern = r'\\((?=[A-Z]{1,})'\n",
    "regex_pattern = r'\\((?=[A-Z]{1,})'\n",
    "masks = generate_masks(dataset, model, token_amount, regex_pattern)\n",
    "\n",
    "activations, bin_boundaries, bins = prepare_data(rearranged_ablated)\n",
    "bin_boundaries, bins = prepare_data()\n",
    "r, barWidth = compute_bar_positions(bin_boundaries)\n",
    "data2 = process_data_type2(bins, dataset, num_bins, masks)\n",
    "plot_data_type2(r, barWidth, bin_boundaries, data2, regex_pattern)"
   ]
  },
  {
   "cell_type": "code",
   "execution_count": 13,
   "metadata": {},
   "outputs": [
    {
     "name": "stdout",
     "output_type": "stream",
     "text": [
      "(992,) (292,) (1705,)\n",
      "Matches: 992, False Positives: 292, False Negatives: 1705\n"
     ]
    },
    {
     "data": {
      "text/html": [
       "<div id=\"circuits-vis-16b2bebe-a15a\" style=\"margin: 15px 0;\"/>\n",
       "    <script crossorigin type=\"module\">\n",
       "    import { render, TextNeuronActivations } from \"https://unpkg.com/circuitsvis@1.40.1/dist/cdn/esm.js\";\n",
       "    render(\n",
       "      \"circuits-vis-16b2bebe-a15a\",\n",
       "      TextNeuronActivations,\n",
       "      {\"tokens\": [\"But\", \" something\", \" is\", \" happening\", \" here\", \" and\", \" you\", \" don\", \"\\u2019\", \"t\", \" know\", \" what\", \" it\", \" is\", \"\\\\newline\", \"\\\\newline\", \"Do\", \" you\", \",\", \" Mr\", \",\", \" Jones\", \"?\", \" (\", \"\\n\", \"Story\", \" highlights\", \" To\", \"ys\", \" \\\"\", \"R\", \"\\\"\", \" Us\", \" Canada\", \" is\", \" searching\", \" for\", \" a\", \" new\", \" chief\", \" play\", \" officer\", \"\\\\newline\", \"\\\\newline\", \"Alex\", \" Th\", \"orne\", \",\", \" 13\", \",\", \" is\", \" stepping\", \" down\", \"\\\\newline\", \"\\\\newline\", \"(\", \"\\n\", \"---\", \"\\\\newline\", \"abstract\", \":\", \" '\", \"The\", \" purpose\", \" of\", \" this\", \" article\", \" is\", \" to\", \" study\", \" the\", \" problem\", \" of\", \" finding\", \" sharp\", \" lower\", \" bounds\", \" for\", \" the\", \" norm\", \" of\", \" the\", \" product\", \" of\", \" polynomials\", \" in\", \" the\", \" ultra\", \"products\", \" of\", \" Banach\", \" spaces\", \" $(\", \"\\n\", \"J\", \"ake\", \" Jones\", \"\\\\newline\", \"\\\\newline\", \"James\", \" Mur\", \"rell\", \" \\\"\", \"J\", \"ake\", \"\\\"\", \" Jones\", \" (\", \"\\n\", \"T\", \"ar\", \"ab\", \"ou\", \"ra\", \"\\\\newline\", \"\\\\newline\", \"T\", \"ar\", \"ab\", \"ou\", \"ra\", \" (\", \"\\n\", \"In\", \" the\", \" Community\", \"\\\\newline\", \"\\\\newline\", \"Near\", \"by\", \" Schools\", \"\\\\newline\", \"\\\\newline\", \"3\", \"208\", \" Per\", \"dot\", \" Avenue\", \",\", \" Ros\", \"amond\", \",\", \" CA\", \" 9\", \"35\", \"60\", \" (\", \"\\n\", \"E\", \"och\", \"ry\", \"sis\", \",\", \" a\", \" new\", \" replacement\", \" name\", \" for\", \" the\", \" fossil\", \" Pro\", \"to\", \"ch\", \"ry\", \"sis\", \" B\", \"isch\", \"off\", \",\", \" 1916\", \" (\", \"\\n\", \"A\", \"ra\", \"uc\", \"aria\", \" clonal\", \" forest\", \"ry\", \":\", \" types\", \" of\", \" cut\", \"t\", \"ings\", \" and\", \" mother\", \" tree\", \" sex\", \" in\", \" field\", \" survival\", \" and\", \" growth\", \"\\\\newline\", \"\\\\newline\", \"Res\", \"um\", \"o\", \":\", \"\\\\newline\", \"\\\\newline\", \"A\", \"ra\", \"uc\", \"aria\", \" ang\", \"ust\", \"if\", \"olia\", \" (\", \"\\n\", \"\\\\newline\", \"#\", \"if\", \"!\", \"defined\", \"\\n\", \"Div\", \"esting\", \" Of\", \" K\", \"ru\", \"ger\", \"\\u2019\", \"s\", \" Cash\", \" (\", \"\\n\", \"Rob\", \"ins\", \"ons\", \" ready\", \" to\", \" roll\", \"\\\\newline\", \"\\\\newline\", \"Tw\", \"ins\", \" Ty\", \"rell\", \" and\", \" Ty\", \"ree\", \" Robinson\", \" making\", \" their\", \" marks\", \" in\", \" football\", \",\", \" basketball\", \"\\\\newline\", \"\\\\newline\", \"A\", \" quick\", \" look\", \" at\", \" twin\", \" brothers\", \" Ty\", \"ree\", \" and\", \" Ty\", \"rell\", \" Robinson\", \" (\", \"\\n\", \"M\", \"oss\", \" (\", \"\\n\", \"Poly\", \"(\", \"\\n\", \"We\", \" now\", \" require\", \" registration\", \" to\", \" download\", \" high\", \" resolution\", \" fan\", \" art\", \".\", \" Please\", \" take\", \" a\", \" few\", \" seconds\", \" to\", \" register\", \" absolutely\", \" free\", \"!\", \" Click\", \" here\", \" now\", \".\", \" (\", \"\\n\", \"PE\", \"OR\", \"IA\", \",\", \" Ill\", \".\", \" (\", \"\\n\", \"A\", \"val\", \"anch\", \"a\", \" de\", \" \\u00c9\", \"xit\", \"os\", \"\\\\newline\", \"\\\\newline\", \"A\", \"val\", \"anch\", \"a\", \" de\", \" \\u00c9\", \"xit\", \"os\", \" (\", \"\\n\", \"Anthony\", \" I\", \"lu\", \"obe\", \"\\\\newline\", \"\\\\newline\", \"Chief\", \" Anthony\", \" I\", \"lu\", \"obe\", \" (\", \"\\n\", \"Anthony\", \" I\", \"lu\", \"obe\", \"\\\\newline\", \"\\\\newline\", \"Chief\", \" Anthony\", \" I\", \"lu\", \"obe\", \" (\", \"JP\", \")\", \" was\", \" born\", \" in\", \" 1945\", \" to\", \" the\", \" family\", \" of\", \" Chief\", \" and\", \" Mrs\", \" Joseph\", \" Ag\", \"im\", \"hel\", \"en\", \" I\", \"lu\", \"obe\", \" (\", \"\\n\", \"(\", \"\\n\", \"Q\", \":\", \"\\\\newline\", \"\\\\newline\", \"union\", \" all\", \" in\", \" SQL\", \" (\", \"\\n\"], \"activations\": [[[0.0]], [[0.0]], [[0.0]], [[0.0]], [[0.0]], [[0.0]], [[0.0]], [[0.0]], [[0.0]], [[0.0]], [[0.0]], [[0.0]], [[0.0]], [[0.0]], [[0.0]], [[0.0]], [[0.0]], [[0.0]], [[0.0]], [[0.0]], [[0.0]], [[0.0]], [[0.0]], [[0.0]], [[0.0]], [[0.0]], [[0.0]], [[0.0]], [[0.0]], [[0.0]], [[0.0]], [[0.0]], [[0.0]], [[0.0]], [[0.0]], [[0.0]], [[0.0]], [[0.0]], [[0.0]], [[0.0]], [[0.0]], [[0.0]], [[0.0]], [[0.0]], [[0.0]], [[0.0]], [[0.0]], [[0.0]], [[0.0]], [[0.0]], [[0.0]], [[0.0]], [[0.0]], [[0.0]], [[0.0]], [[0.0]], [[0.0]], [[0.0]], [[0.0]], [[0.0]], [[0.0]], [[0.0]], [[0.0]], [[0.0]], [[0.0]], [[0.0]], [[0.0]], [[0.0]], [[0.0]], [[0.0]], [[0.0]], [[0.0]], [[0.0]], [[0.0]], [[0.0]], [[0.0]], [[0.0]], [[0.0]], [[0.0]], [[0.0]], [[0.0]], [[0.0]], [[0.0]], [[0.0]], [[0.0]], [[0.0]], [[0.0]], [[0.0]], [[0.0]], [[0.0]], [[0.0]], [[0.0]], [[0.0]], [[0.0]], [[0.0]], [[0.0]], [[0.0]], [[0.0]], [[0.0]], [[0.0]], [[0.0]], [[0.0]], [[0.0]], [[0.0]], [[0.0]], [[0.0]], [[0.0]], [[0.0]], [[0.0]], [[0.0]], [[0.0]], [[0.0]], [[0.0]], [[0.0]], [[0.0]], [[0.0]], [[0.0]], [[0.0]], [[0.0]], [[0.0]], [[0.0]], [[0.0]], [[0.0]], [[0.0]], [[0.0]], [[0.0]], [[0.0]], [[0.0]], [[0.0]], [[0.0]], [[0.0]], [[0.0]], [[0.0]], [[0.0]], [[0.0]], [[0.0]], [[0.0]], [[0.0]], [[0.0]], [[0.0]], [[0.0]], [[0.0]], [[0.0]], [[0.0]], [[0.0]], [[0.0]], [[0.0]], [[0.0]], [[0.0]], [[0.0]], [[0.0]], [[0.0]], [[0.0]], [[0.0]], [[0.0]], [[0.0]], [[0.0]], [[0.0]], [[0.0]], [[0.0]], [[0.0]], [[0.0]], [[0.0]], [[0.0]], [[0.0]], [[0.0]], [[0.0]], [[0.0]], [[0.0]], [[0.0]], [[0.0]], [[0.0]], [[0.0]], [[0.0]], [[0.0]], [[0.0]], [[0.0]], [[0.0]], [[0.0]], [[0.0]], [[0.0]], [[0.0]], [[0.0]], [[0.0]], [[0.0]], [[0.0]], [[0.0]], [[0.0]], [[0.0]], [[0.0]], [[0.0]], [[0.0]], [[0.0]], [[0.0]], [[0.0]], [[0.0]], [[0.0]], [[0.0]], [[0.0]], [[0.0]], [[0.0]], [[0.0]], [[0.0]], [[0.0]], [[0.0]], [[0.0]], [[0.0]], [[0.0]], [[0.0]], [[0.0]], [[0.0]], [[0.0]], [[0.0]], [[0.0]], [[0.0]], [[0.0]], [[0.0]], [[0.0]], [[0.0]], [[0.0]], [[0.0]], [[0.0]], [[0.0]], [[0.0]], [[0.0]], [[0.0]], [[0.0]], [[0.0]], [[0.0]], [[0.0]], [[0.0]], [[0.0]], [[0.0]], [[0.0]], [[0.0]], [[0.0]], [[0.0]], [[0.0]], [[0.0]], [[0.0]], [[0.0]], [[0.0]], [[0.0]], [[0.0]], [[0.0]], [[0.0]], [[0.0]], [[0.0]], [[0.0]], [[0.0]], [[0.0]], [[0.0]], [[0.0]], [[0.0]], [[0.0]], [[0.0]], [[0.0]], [[0.0]], [[0.0]], [[0.0]], [[0.0]], [[0.0]], [[0.0]], [[0.0]], [[0.0]], [[0.0]], [[0.0]], [[0.0]], [[0.0]], [[0.0]], [[0.0]], [[0.0]], [[0.0]], [[0.0]], [[0.0]], [[0.0]], [[0.0]], [[0.0]], [[0.0]], [[0.0]], [[0.0]], [[0.0]], [[0.0]], [[0.0]], [[0.0]], [[0.0]], [[0.0]], [[0.0]], [[0.0]], [[0.0]], [[0.0]], [[0.0]], [[0.0]], [[0.0]], [[0.0]], [[0.0]], [[0.0]], [[0.0]], [[0.0]], [[0.0]], [[0.0]], [[0.0]], [[0.0]], [[0.0]], [[0.0]], [[0.0]], [[0.0]], [[0.0]], [[0.0]], [[0.0]], [[0.0]], [[0.0]], [[0.0]], [[0.0]], [[0.0]], [[0.0]], [[0.0]], [[0.0]], [[0.0]], [[0.0]], [[0.0]], [[0.0]], [[0.0]], [[0.0]], [[0.0]], [[0.0]], [[0.0]], [[0.0]], [[0.01338648796081543]], [[0.0]], [[0.0]], [[0.0]], [[0.0]], [[0.0]], [[0.0]], [[0.0]], [[0.0]], [[0.0]], [[0.0]], [[0.0]], [[0.0]], [[0.0]], [[0.0]], [[0.0]], [[0.0]], [[0.0]], [[0.0]], [[0.0]], [[0.0]], [[0.0]], [[0.0]], [[0.0]], [[0.0]], [[0.0]], [[0.0]], [[0.0]], [[0.0]], [[0.0]], [[0.0]], [[0.0]], [[0.0]], [[0.0]], [[0.0]], [[0.0]], [[0.0]], [[0.0]], [[0.0]], [[0.0]], [[0.0]], [[0.0]], [[0.0]], [[0.0]], [[0.0]], [[0.0]], [[0.0]], [[0.0]], [[0.0]], [[0.0]], [[0.0]], [[0.0]], [[0.0]], [[0.0]], [[0.0]], [[0.0]], [[0.0]], [[0.0]], [[0.0]], [[0.0]], [[0.0]], [[0.0]]], \"firstDimensionName\": \"Layer\", \"secondDimensionName\": \"Neuron\"}\n",
       "    )\n",
       "    </script>"
      ],
      "text/plain": [
       "<circuitsvis.utils.render.RenderedHTML at 0x7ff81414b610>"
      ]
     },
     "execution_count": 13,
     "metadata": {},
     "output_type": "execute_result"
    }
   ],
   "source": [
    "regex_nonzero, feature_nonzero = np.array(masks).flatten().nonzero()[0], dictionary_activations[:, feature_index].numpy().nonzero()[0]\n",
    "index_matches = np.intersect1d(regex_nonzero, feature_nonzero)\n",
    "false_positives = np.setdiff1d(regex_nonzero, index_matches)\n",
    "false_negatives = np.setdiff1d(feature_nonzero, index_matches)\n",
    "print(index_matches.shape, false_positives.shape, false_negatives.shape)\n",
    "print(f\"Matches: {index_matches.shape[0]}, False Positives: {false_positives.shape[0]}, False Negatives: {false_negatives.shape[0]}\")\n",
    "found_indices = false_positives[:20]\n",
    "\n",
    "datapoint_indices =[np.unravel_index(i, (datapoints, token_amount)) for i in found_indices]\n",
    "text_list = []\n",
    "full_text = []\n",
    "token_list = []\n",
    "full_token_list = []\n",
    "for md, s_ind in datapoint_indices:\n",
    "    md = int(md)\n",
    "    s_ind = int(s_ind)\n",
    "    full_tok = torch.tensor(dataset[md][\"input_ids\"])\n",
    "    full_text.append(model.tokenizer.decode(full_tok))\n",
    "    tok = dataset[md][\"input_ids\"][:s_ind+1]\n",
    "    text = model.tokenizer.decode(tok)\n",
    "    text_list.append(text)\n",
    "    token_list.append(tok)\n",
    "    full_token_list.append(full_tok)\n",
    "# text_list, full_text, token_list, full_token_list\n",
    "visualize_text(text_list, feature_index, model)"
   ]
  },
  {
   "cell_type": "code",
   "execution_count": 213,
   "metadata": {},
   "outputs": [
    {
     "name": "stdout",
     "output_type": "stream",
     "text": [
      "Feature index: 1087\n",
      "MCS: 0.9841808080673218\n"
     ]
    },
    {
     "data": {
      "text/html": [
       "<div id=\"circuits-vis-654ab57d-3442\" style=\"margin: 15px 0;\"/>\n",
       "    <script crossorigin type=\"module\">\n",
       "    import { render, TextNeuronActivations } from \"https://unpkg.com/circuitsvis@1.40.1/dist/cdn/esm.js\";\n",
       "    render(\n",
       "      \"circuits-vis-654ab57d-3442\",\n",
       "      TextNeuronActivations,\n",
       "      {\"tokens\": [\"function\", \" get\", \"Cookie\", \"(\", \"name\", \")\", \" {\", \"\\\\newline\", \"    \", \"var\", \" cookie\", \"Value\", \" =\", \" null\", \";\", \"\\\\newline\", \"    \", \"if\", \"\\n\", \"import\", \" fetch\", \" from\", \" '\", \"d\", \"va\", \"/\", \"fetch\", \"';\", \"\\\\newline\", \"import\", \" {\", \" notification\", \" }\", \" from\", \" '\", \"ant\", \"d\", \"';\", \"\\\\newline\", \"\\\\newline\", \"function\", \" check\", \"Status\", \"(\", \"response\", \")\", \" {\", \"\\\\newline\", \"  \", \"if\", \"\\n\", \"Q\", \":\", \"\\\\newline\", \"\\\\newline\", \"w\", \"md\", \" mark\", \"down\", \" code\", \" problem\", \"\\\\newline\", \"\\\\newline\", \"i\", \" m\", \" using\", \" w\", \"md\", \" mark\", \"down\", \" editor\", \" in\", \" my\", \" project\", \" and\", \" i\", \" have\", \" a\", \" problem\", \" with\", \" code\", \" tags\", \":\", \"\\\\newline\", \"if\", \"\\n\", \"#\", \"!/\", \"bin\", \"/\", \"bash\", \"\\\\newline\", \"\\\\newline\", \"if\", \"\\n\", \"{{\", \"#\", \"with\", \" try\", \"Get\", \"Target\", \"Reflection\", \"Deep\", \"}}\", \"\\\\newline\", \"    \", \"{{\", \"#\", \"if\", \"\\n\", \"@\", \"if\", \"\\n\", \"Q\", \":\", \"\\\\newline\", \"\\\\newline\", \"Is\", \" there\", \" a\", \" difference\", \" between\", \" the\", \" `\", \"if\", \"\\n\", \"Q\", \":\", \"\\\\newline\", \"\\\\newline\", \"tap\", \" back\", \" immediately\", \" after\", \" moving\", \" the\", \" map\", \" crashes\", \" application\", \" in\", \" iPhone\", \"\\\\newline\", \"\\\\newline\", \"I\", \" came\", \" across\", \" the\", \" scenario\", \" where\", \" in\", \" if\", \"\\n\", \"#\", \" coding\", \"=\", \"utf\", \"-\", \"8\", \"\\\\newline\", \"\\\"\\\"\\\"\", \"Python\", \" Ar\", \"lo\", \" setup\", \" script\", \".\\\"\\\"\\\"\", \"\\\\newline\", \"from\", \" set\", \"upt\", \"ools\", \" import\", \" setup\", \"\\\\newline\", \"\\\\newline\", \"def\", \" read\", \"me\", \"():\", \"\\\\newline\", \"    \", \"with\", \"\\n\", \"\\ufeff\", \"using\", \" System\", \";\", \"\\\\newline\", \"using\", \" System\", \".\", \"Collections\", \".\", \"Generic\", \";\", \"\\\\newline\", \"using\", \" System\", \".\", \"Lin\", \"q\", \";\", \"\\\\newline\", \"using\", \" System\", \".\", \"Text\", \";\", \"\\\\newline\", \"\\\\newline\", \"namespace\", \"\\n\", \"Kevin\", \" Mans\", \"ker\", \"\\\\newline\", \"\\\\newline\", \"Kevin\", \" Mans\", \"ker\", \" (\", \"\\n\"], \"activations\": [[[0.0]], [[0.0]], [[0.0]], [[0.0]], [[0.0]], [[0.0]], [[0.0]], [[0.0]], [[0.0]], [[0.0]], [[0.0]], [[0.0]], [[0.0]], [[0.0]], [[0.0]], [[0.0]], [[0.0]], [[7.672199249267578]], [[0.0]], [[0.0]], [[0.0]], [[0.0]], [[0.0]], [[0.0]], [[0.0]], [[0.0]], [[0.0]], [[0.0]], [[0.0]], [[0.0]], [[0.0]], [[0.0]], [[0.0]], [[0.0]], [[0.0]], [[0.0]], [[0.0]], [[0.0]], [[0.0]], [[0.0]], [[0.35805249214172363]], [[0.0]], [[0.0]], [[0.0]], [[0.0]], [[0.0]], [[0.0]], [[0.0]], [[0.0]], [[6.534223556518555]], [[0.0]], [[0.0]], [[0.0]], [[0.0]], [[0.0]], [[0.0]], [[0.0]], [[0.0]], [[0.0]], [[0.0]], [[0.0]], [[0.0]], [[0.0]], [[0.0]], [[0.0]], [[0.0]], [[0.0]], [[0.0]], [[0.0]], [[0.0]], [[0.0]], [[0.0]], [[0.0]], [[0.0]], [[0.0]], [[0.0]], [[0.0]], [[0.0]], [[0.0]], [[0.0]], [[0.0]], [[0.0]], [[0.0]], [[0.0]], [[5.4430341720581055]], [[0.0]], [[0.0]], [[0.0]], [[0.0]], [[0.0]], [[0.0]], [[0.0]], [[0.0]], [[4.681832313537598]], [[0.0]], [[0.0]], [[0.0]], [[0.0]], [[0.0]], [[0.0]], [[0.0]], [[0.0]], [[0.0]], [[0.0]], [[0.0]], [[0.0]], [[0.0]], [[0.0]], [[4.1988677978515625]], [[0.0]], [[0.0]], [[3.583069086074829]], [[0.0]], [[0.0]], [[0.0]], [[0.0]], [[0.0]], [[0.0]], [[0.0]], [[0.0]], [[0.0]], [[0.0]], [[0.0]], [[0.0]], [[2.524165391921997]], [[0.0]], [[0.0]], [[0.0]], [[0.0]], [[0.0]], [[0.0]], [[0.0]], [[0.0]], [[0.0]], [[0.0]], [[0.0]], [[0.0]], [[0.0]], [[0.0]], [[0.0]], [[0.0]], [[0.0]], [[0.0]], [[0.0]], [[0.0]], [[0.0]], [[0.0]], [[0.0]], [[0.0]], [[0.0]], [[1.5813229084014893]], [[0.0]], [[0.0]], [[0.0]], [[0.0]], [[0.0]], [[0.0]], [[0.0]], [[0.0]], [[0.0]], [[0.0]], [[0.0]], [[0.0]], [[0.0]], [[0.0]], [[0.0]], [[0.0]], [[0.06143045425415039]], [[0.0]], [[0.0]], [[0.0]], [[0.0]], [[0.0]], [[0.0]], [[0.0]], [[0.0]], [[0.0]], [[0.0]], [[0.0]], [[0.0]], [[0.0]], [[0.9286601543426514]], [[0.0]], [[0.0]], [[0.0]], [[0.0]], [[0.0]], [[0.0]], [[0.0]], [[0.0]], [[0.0]], [[0.0]], [[0.0]], [[0.0]], [[0.0]], [[0.0]], [[0.0]], [[0.0]], [[0.0]], [[0.0]], [[0.0]], [[0.0]], [[0.0]], [[0.0]], [[0.0]], [[0.0]], [[0.0]], [[0.0]], [[0.0]], [[0.0]], [[0.07932400703430176]], [[0.0]], [[0.0]], [[0.0]], [[0.0]], [[0.0]], [[0.0]], [[0.0]], [[0.0]], [[0.0]], [[0.0]], [[0.0]]], \"firstDimensionName\": \"Layer\", \"secondDimensionName\": \"Neuron\"}\n",
       "    )\n",
       "    </script>"
      ],
      "text/plain": [
       "<circuitsvis.utils.render.RenderedHTML at 0x7fe00c4d2200>"
      ]
     },
     "execution_count": 213,
     "metadata": {},
     "output_type": "execute_result"
    }
   ],
   "source": [
    "N = 118\n",
    "best_feature = int(max_indices[N])\n",
    "# best_feature = 21 # Change this one for global index (N is sorted by MCS)\n",
    "# best_feature = 1630 # Feature_ids [1359, 1764, 475, 1815, 513, 1184, 1100, 995, 1001, 365]\n",
    "\n",
    "\n",
    "feature_setting = \"dictionary\"\n",
    "# feature_setting = \"pca\"\n",
    "# feature_setting = \"ica\"\n",
    "# feature_setting = \"neuron\"\n",
    "setting=\"dictionary_basis\"\n",
    "if(feature_setting == \"dictionary\"):\n",
    "    autoencoder = smaller_autoencoder\n",
    "    activations = dictionary_activations\n",
    "elif(feature_setting == \"pca\"):\n",
    "    autoencoder = pca_topk\n",
    "    activations = pca_dictionary_activations\n",
    "elif(feature_setting == \"ica\"):\n",
    "    autoencoder = ica_topk\n",
    "    activations = ica_dictionary_activations\n",
    "elif(feature_setting == \"neuron\"):\n",
    "    autoencoder = smaller_autoencoder # Doesn't matter actually\n",
    "    activations = neuron_activations\n",
    "    setting = \"neuron_basis\"\n",
    "\n",
    "# autoencoder = pca_topk\n",
    "print(f\"Feature index: {best_feature}\")\n",
    "print(f\"MCS: {max_cosine_similarities[best_feature]}\")\n",
    "text_list, full_text, token_list, full_token_list = get_feature_datapoints(best_feature, activations, dataset, setting=\"uniform\")\n",
    "# text_list, full_text, token_list, full_token_list = get_feature_datapoints(best_feature, activations, dataset, setting=\"max\")\n",
    "visualize_text(text_list, best_feature, model, autoencoder, setting=setting)\n",
    "# visualize_text(full_text, best_feature, model, autoencoder)"
   ]
  },
  {
   "cell_type": "code",
   "execution_count": 214,
   "metadata": {},
   "outputs": [
    {
     "data": {
      "text/html": [
       "<div id=\"circuits-vis-2702ece6-7a4e\" style=\"margin: 15px 0;\"/>\n",
       "    <script crossorigin type=\"module\">\n",
       "    import { render, TextNeuronActivations } from \"https://unpkg.com/circuitsvis@1.40.1/dist/cdn/esm.js\";\n",
       "    render(\n",
       "      \"circuits-vis-2702ece6-7a4e\",\n",
       "      TextNeuronActivations,\n",
       "      {\"tokens\": [\"function\", \" get\", \"Cookie\", \"(\", \"name\", \")\", \" {\", \"\\\\newline\", \"    \", \"var\", \" cookie\", \"Value\", \" =\", \" null\", \";\", \"\\\\newline\", \"    \", \"if\", \"\\n\", \"import\", \" fetch\", \" from\", \" '\", \"d\", \"va\", \"/\", \"fetch\", \"';\", \"\\\\newline\", \"import\", \" {\", \" notification\", \" }\", \" from\", \" '\", \"ant\", \"d\", \"';\", \"\\\\newline\", \"\\\\newline\", \"function\", \" check\", \"Status\", \"(\", \"response\", \")\", \" {\", \"\\\\newline\", \"  \", \"if\", \"\\n\", \"Q\", \":\", \"\\\\newline\", \"\\\\newline\", \"w\", \"md\", \" mark\", \"down\", \" code\", \" problem\", \"\\\\newline\", \"\\\\newline\", \"i\", \" m\", \" using\", \" w\", \"md\", \" mark\", \"down\", \" editor\", \" in\", \" my\", \" project\", \" and\", \" i\", \" have\", \" a\", \" problem\", \" with\", \" code\", \" tags\", \":\", \"\\\\newline\", \"if\", \"\\n\", \"#\", \"!/\", \"bin\", \"/\", \"bash\", \"\\\\newline\", \"\\\\newline\", \"if\", \"\\n\", \"{{\", \"#\", \"with\", \" try\", \"Get\", \"Target\", \"Reflection\", \"Deep\", \"}}\", \"\\\\newline\", \"    \", \"{{\", \"#\", \"if\", \"\\n\", \"@\", \"if\", \"\\n\", \"Q\", \":\", \"\\\\newline\", \"\\\\newline\", \"Is\", \" there\", \" a\", \" difference\", \" between\", \" the\", \" `\", \"if\", \"\\n\", \"Q\", \":\", \"\\\\newline\", \"\\\\newline\", \"tap\", \" back\", \" immediately\", \" after\", \" moving\", \" the\", \" map\", \" crashes\", \" application\", \" in\", \" iPhone\", \"\\\\newline\", \"\\\\newline\", \"I\", \" came\", \" across\", \" the\", \" scenario\", \" where\", \" in\", \" if\", \"\\n\", \"#\", \" coding\", \"=\", \"utf\", \"-\", \"8\", \"\\\\newline\", \"\\\"\\\"\\\"\", \"Python\", \" Ar\", \"lo\", \" setup\", \" script\", \".\\\"\\\"\\\"\", \"\\\\newline\", \"from\", \" set\", \"upt\", \"ools\", \" import\", \" setup\", \"\\\\newline\", \"\\\\newline\", \"def\", \" read\", \"me\", \"():\", \"\\\\newline\", \"    \", \"with\", \"\\n\", \"\\ufeff\", \"using\", \" System\", \";\", \"\\\\newline\", \"using\", \" System\", \".\", \"Collections\", \".\", \"Generic\", \";\", \"\\\\newline\", \"using\", \" System\", \".\", \"Lin\", \"q\", \";\", \"\\\\newline\", \"using\", \" System\", \".\", \"Text\", \";\", \"\\\\newline\", \"\\\\newline\", \"namespace\", \"\\n\", \"Kevin\", \" Mans\", \"ker\", \"\\\\newline\", \"\\\\newline\", \"Kevin\", \" Mans\", \"ker\", \" (\", \"\\n\"], \"activations\": [[[0.13861846923828125]], [[-0.08527183532714844]], [[0.1225423812866211]], [[-0.09708881378173828]], [[0.014819145202636719]], [[0.11304569244384766]], [[0.14750003814697266]], [[0.03367900848388672]], [[0.21225261688232422]], [[0.12279129028320312]], [[0.05889606475830078]], [[-0.02353191375732422]], [[-0.1297931671142578]], [[-0.2808971405029297]], [[-1.1563711166381836]], [[-0.27341175079345703]], [[-0.8241300582885742]], [[-7.672199249267578]], [[0.0]], [[0.029630661010742188]], [[0.03885841369628906]], [[0.03259849548339844]], [[-0.06832027435302734]], [[-0.004584312438964844]], [[0.008030891418457031]], [[0.011584281921386719]], [[0.009257316589355469]], [[-0.09663105010986328]], [[0.014680862426757812]], [[0.011809349060058594]], [[0.023443222045898438]], [[-0.061470985412597656]], [[0.021813392639160156]], [[0.054111480712890625]], [[-0.16347789764404297]], [[-0.06675434112548828]], [[-0.012120246887207031]], [[-0.08549880981445312]], [[-0.007266044616699219]], [[-0.007266044616699219]], [[-0.04343891143798828]], [[0.050072669982910156]], [[0.036163330078125]], [[0.2881288528442383]], [[0.37544727325439453]], [[-0.8204002380371094]], [[-0.6079282760620117]], [[-0.4183769226074219]], [[-0.6502695083618164]], [[-6.534223556518555]], [[0.0]], [[0.11990928649902344]], [[0.02962207794189453]], [[0.08009624481201172]], [[0.08009624481201172]], [[-0.007015228271484375]], [[-0.041225433349609375]], [[0.035675048828125]], [[0.007651329040527344]], [[-0.3294210433959961]], [[-0.11408805847167969]], [[0.13094711303710938]], [[0.13094711303710938]], [[0.20498180389404297]], [[0.08262920379638672]], [[-0.06729507446289062]], [[-0.08978271484375]], [[-0.008774757385253906]], [[-0.009294509887695312]], [[-0.0049686431884765625]], [[-0.04889392852783203]], [[0.013797760009765625]], [[-0.039905548095703125]], [[-0.00467681884765625]], [[0.012526512145996094]], [[-0.009899139404296875]], [[0.08344554901123047]], [[0.09526252746582031]], [[0.09148693084716797]], [[0.04638099670410156]], [[-0.4759197235107422]], [[0.1071310043334961]], [[-0.25609683990478516]], [[-1.4509656429290771]], [[-5.4430341720581055]], [[0.0]], [[-0.47725486755371094]], [[-0.2979888916015625]], [[-0.12715625762939453]], [[0.06384658813476562]], [[0.3403949737548828]], [[-0.010787010192871094]], [[-0.010787010192871094]], [[-4.681832313537598]], [[0.0]], [[0.16865253448486328]], [[-0.06681442260742188]], [[-0.13187026977539062]], [[-0.14107131958007812]], [[0.06807708740234375]], [[0.029300689697265625]], [[0.11291217803955078]], [[0.11113739013671875]], [[-0.6872079372406006]], [[-0.5797340869903564]], [[-0.17614459991455078]], [[0.9912347793579102]], [[1.1275920867919922]], [[-4.1988677978515625]], [[0.0]], [[-1.8755855560302734]], [[-3.583069086074829]], [[0.0]], [[-0.20054960250854492]], [[-0.3405590057373047]], [[-0.06347084045410156]], [[-0.06347084045410156]], [[0.07776355743408203]], [[-0.07120800018310547]], [[-0.04292488098144531]], [[-0.10837650299072266]], [[0.20820283889770508]], [[0.2392888069152832]], [[-1.7405176162719727]], [[-2.524165391921997]], [[0.0]], [[-0.3565196990966797]], [[-0.02320241928100586]], [[0.026136398315429688]], [[0.026136398315429688]], [[-0.09491252899169922]], [[-0.022162437438964844]], [[-0.030162811279296875]], [[0.02427816390991211]], [[0.03704690933227539]], [[0.02230548858642578]], [[-0.09293937683105469]], [[-0.10187721252441406]], [[-0.04237651824951172]], [[-0.10125875473022461]], [[0.023012161254882812]], [[0.11711883544921875]], [[0.11711883544921875]], [[0.05582237243652344]], [[0.06319427490234375]], [[0.022935867309570312]], [[-0.009406089782714844]], [[-0.02150249481201172]], [[-0.2690110206604004]], [[-0.32619619369506836]], [[-1.5813229084014893]], [[0.0]], [[-0.024864673614501953]], [[0.009252548217773438]], [[0.019299983978271484]], [[0.002852916717529297]], [[-0.009260177612304688]], [[-0.012403011322021484]], [[-0.06481599807739258]], [[-0.021756649017333984]], [[-0.07365179061889648]], [[-0.03319072723388672]], [[-0.030093669891357422]], [[-0.03359270095825195]], [[-0.0009655952453613281]], [[-0.09690332412719727]], [[0.029522418975830078]], [[-0.06583261489868164]], [[0.01010751724243164]], [[0.07081365585327148]], [[0.2577476501464844]], [[-0.15642595291137695]], [[-0.052408695220947266]], [[-0.031161785125732422]], [[-0.031161785125732422]], [[-0.18829584121704102]], [[0.016037464141845703]], [[-0.06026029586791992]], [[-0.37208032608032227]], [[-0.5213384628295898]], [[-0.6771266460418701]], [[-0.9286601543426514]], [[0.0]], [[0.11187076568603516]], [[-0.03453803062438965]], [[-0.07932400703430176]], [[-0.07932400703430176]], [[0.031675100326538086]], [[-0.07752680778503418]], [[-0.07932400703430176]], [[-0.07932400703430176]], [[-0.05002307891845703]], [[0.00860452651977539]], [[0.0061798095703125]], [[0.0018053054809570312]], [[0.0010480880737304688]], [[0.002166271209716797]], [[-0.03484058380126953]], [[0.0006394386291503906]], [[0.04604673385620117]], [[-0.0008950233459472656]], [[0.0038645267486572266]], [[-0.0012655258178710938]], [[0.028745412826538086]], [[-0.07932400703430176]], [[-0.012922525405883789]], [[-0.04983997344970703]], [[-0.07932400703430176]], [[-0.07932400703430176]], [[-0.07932400703430176]], [[-0.07932400703430176]], [[0.0]], [[0.0]], [[0.0]], [[0.0]], [[0.0]], [[0.0]], [[0.0]], [[0.0]], [[0.0]], [[0.0]], [[0.0]]], \"firstDimensionName\": \"Layer\", \"secondDimensionName\": \"Neuron\"}\n",
       "    )\n",
       "    </script>"
      ],
      "text/plain": [
       "<circuitsvis.utils.render.RenderedHTML at 0x7fde398c8850>"
      ]
     },
     "execution_count": 214,
     "metadata": {},
     "output_type": "execute_result"
    }
   ],
   "source": [
    "ablate_text(text_list, best_feature, model, autoencoder)"
   ]
  },
  {
   "cell_type": "code",
   "execution_count": 215,
   "metadata": {},
   "outputs": [
    {
     "data": {
      "text/html": [
       "<div id=\"circuits-vis-5c4f37ac-f992\" style=\"margin: 15px 0;\"/>\n",
       "    <script crossorigin type=\"module\">\n",
       "    import { render, TextNeuronActivations } from \"https://unpkg.com/circuitsvis@1.40.1/dist/cdn/esm.js\";\n",
       "    render(\n",
       "      \"circuits-vis-5c4f37ac-f992\",\n",
       "      TextNeuronActivations,\n",
       "      {\"tokens\": [\" get\", \"Cookie\", \"(\", \"name\", \")\", \" {\", \"\\\\newline\", \"    \", \"var\", \" cookie\", \"Value\", \" =\", \" null\", \";\", \"\\\\newline\", \"    \", \"if\", \" (\", \"document\", \".\", \"cookie\", \" &&\", \" document\", \".\", \"cookie\", \"!=\", \" '')\", \" {\", \"\\\\newline\", \"        \", \"var\", \" cookies\", \" =\", \" document\", \".\", \"cookie\", \".\", \"split\", \"('\", \"\\n\", \" fetch\", \" from\", \" '\", \"d\", \"va\", \"/\", \"fetch\", \"';\", \"\\\\newline\", \"import\", \" {\", \" notification\", \" }\", \" from\", \" '\", \"ant\", \"d\", \"';\", \"\\\\newline\", \"\\\\newline\", \"function\", \" check\", \"Status\", \"(\", \"response\", \")\", \" {\", \"\\\\newline\", \"  \", \"if\", \" (\", \"response\", \".\", \"status\", \" >=\", \" 200\", \" &&\", \" response\", \".\", \"\\n\", \":\", \"\\\\newline\", \"\\\\newline\", \"w\", \"md\", \" mark\", \"down\", \" code\", \" problem\", \"\\\\newline\", \"\\\\newline\", \"i\", \" m\", \" using\", \" w\", \"md\", \" mark\", \"down\", \" editor\", \" in\", \" my\", \" project\", \" and\", \" i\", \" have\", \" a\", \" problem\", \" with\", \" code\", \" tags\", \":\", \"\\\\newline\", \"if\", \" i\", \" enter\", \" a\", \" code\", \" snippet\", \",\", \"\\n\", \"!/\", \"bin\", \"/\", \"bash\", \"\\\\newline\", \"\\\\newline\", \"if\", \" [\", \" -\", \"z\", \" \\\"$\", \"1\", \"\\\"\", \" ];\", \" then\", \"\\\\newline\", \"    \", \"echo\", \" \\\"\", \"This\", \" script\", \" must\", \" be\", \" called\", \" with\", \" an\", \" argument\", \"\\\"\", \" >\", \"&\", \"2\", \"\\\\newline\", \"    \", \"exit\", \" 1\", \"\\\\newline\", \"fi\", \"\\\\newline\\\\newline\", \"\\n\", \"#\", \"with\", \" try\", \"Get\", \"Target\", \"Reflection\", \"Deep\", \"}}\", \"\\\\newline\", \"    \", \"{{\", \"#\", \"if\", \"Cond\", \"../\", \"name\", \" '\", \"==\", \"='\", \" name\", \"}}\", \"\\\\newline\", \"        \", \"Re\", \"-\", \"exports\", \" <\", \"a\", \" href\", \"=\\\"{{\", \"relative\", \"URL\", \" url\", \"}}\", \"\\\">\", \"{{\", \"name\", \"}}</\", \"a\", \"\\n\", \"if\", \" \\\"%\", \"DEBUG\", \"%\\\"\", \" ==\", \" \\\"\\\"\", \" @\", \"echo\", \" off\", \"\\r\", \"\\\\newline\", \"@\", \"rem\", \" \", \"################################\", \"################################\", \"####\", \"######\", \"\\r\", \"\\\\newline\", \"@\", \"rem\", \"\\r\", \"\\\\newline\", \"@\", \"rem\", \"  \", \"Grad\", \"le\", \" startup\", \" script\", \" for\", \" Windows\", \"\\r\", \"\\\\newline\", \"@\", \"rem\", \"\\r\\\\newline\", \"\\n\", \":\", \"\\\\newline\", \"\\\\newline\", \"Is\", \" there\", \" a\", \" difference\", \" between\", \" the\", \" `\", \"if\", \" else\", \"`\", \" and\", \" the\", \" `\", \"if\", \"-\", \"else\", \" if\", \"-\", \"else\", \"`\", \"?\", \"\\\\newline\", \"\\\\newline\", \"In\", \" Wiki\", \"P\", \"edia\", \" article\", \" for\", \" Binary\", \" Search\", \" there\", \" is\", \" a\", \" section\", \" called\", \"\\n\", \":\", \"\\\\newline\", \"\\\\newline\", \"tap\", \" back\", \" immediately\", \" after\", \" moving\", \" the\", \" map\", \" crashes\", \" application\", \" in\", \" iPhone\", \"\\\\newline\", \"\\\\newline\", \"I\", \" came\", \" across\", \" the\", \" scenario\", \" where\", \" in\", \" if\", \" after\", \" moving\", \" the\", \" map\", \" immediately\", \" if\", \" I\", \" tap\", \" on\", \" back\", \" icon\", \" while\", \" the\", \" map\", \" has\", \"\\n\", \" coding\", \"=\", \"utf\", \"-\", \"8\", \"\\\\newline\", \"\\\"\\\"\\\"\", \"Python\", \" Ar\", \"lo\", \" setup\", \" script\", \".\\\"\\\"\\\"\", \"\\\\newline\", \"from\", \" set\", \"upt\", \"ools\", \" import\", \" setup\", \"\\\\newline\", \"\\\\newline\", \"def\", \" read\", \"me\", \"():\", \"\\\\newline\", \"    \", \"with\", \" open\", \"('\", \"READ\", \"ME\", \".\", \"md\", \"')\", \" as\", \" desc\", \":\", \"\\n\", \"using\", \" System\", \";\", \"\\\\newline\", \"using\", \" System\", \".\", \"Collections\", \".\", \"Generic\", \";\", \"\\\\newline\", \"using\", \" System\", \".\", \"Lin\", \"q\", \";\", \"\\\\newline\", \"using\", \" System\", \".\", \"Text\", \";\", \"\\\\newline\", \"\\\\newline\", \"namespace\", \" R\", \"ss\", \"Data\", \"Ser\", \"ices\", \"\\\\newline\", \"{\", \"\\\\newline\", \"    \", \"class\", \" R\", \"ss\", \"\\n\", \" Mans\", \"ker\", \"\\\\newline\", \"\\\\newline\", \"Kevin\", \" Mans\", \"ker\", \" (\", \"born\", \" )\", \" is\", \" an\", \" American\", \" male\", \"  \", \"track\", \" cycl\", \"ist\", \".\", \" He\", \" competed\", \" in\", \" the\", \" sprint\", \" event\", \" at\", \" the\", \" 2012\", \" U\", \"CI\", \" Track\", \" Cycl\", \"ing\", \" World\", \" Championships\", \".\", \"\\\\newline\", \"\\\\newline\", \"References\", \"\\n\"], \"activations\": [[[0.0]], [[0.009157657623291016]], [[0.0]], [[0.0]], [[0.0]], [[0.0]], [[0.0]], [[0.0]], [[0.0]], [[0.010097980499267578]], [[0.0]], [[0.0]], [[0.0]], [[0.0]], [[0.0]], [[0.0]], [[0.0]], [[-0.7420488595962524]], [[0.16039705276489258]], [[0.010469991713762283]], [[0.17740678787231445]], [[-0.4139900207519531]], [[-0.34202539920806885]], [[0.0013423318741843104]], [[0.011970214545726776]], [[-0.5644750595092773]], [[-0.0226898193359375]], [[-0.0384955108165741]], [[-3.1739473342895508e-06]], [[-6.258487701416016e-07]], [[0.018598318099975586]], [[0.0028781890869140625]], [[0.0]], [[0.009826675057411194]], [[0.0]], [[0.0]], [[0.0]], [[3.0994415283203125e-06]], [[-2.7418136596679688e-06]], [[0.0]], [[0.0]], [[0.0]], [[-0.0014154911041259766]], [[0.0]], [[0.0]], [[0.0]], [[0.0]], [[0.0]], [[0.0]], [[0.0]], [[0.0]], [[0.002162933349609375]], [[0.0]], [[0.0]], [[0.0]], [[0.0]], [[0.0]], [[0.0]], [[0.0]], [[0.0]], [[0.0]], [[-0.027712345123291016]], [[-0.00046253204345703125]], [[0.004126191139221191]], [[-0.00032138824462890625]], [[-0.005407869815826416]], [[-0.002096518874168396]], [[-2.3283064365386963e-07]], [[-2.7418136596679688e-06]], [[8.654594421386719e-05]], [[-1.3496556282043457]], [[-0.012711845338344574]], [[0.08626124262809753]], [[0.0008188486099243164]], [[-0.23798274993896484]], [[0.003585219383239746]], [[-0.14456307888031006]], [[-0.062097787857055664]], [[0.002096950076520443]], [[0.0]], [[0.0]], [[-7.666647434234619e-06]], [[0.0]], [[0.0]], [[0.0]], [[0.0]], [[-0.0006554126739501953]], [[0.0008764266967773438]], [[0.0002498626708984375]], [[3.2007694244384766e-05]], [[0.0]], [[-0.0009899139404296875]], [[0.0]], [[0.0]], [[0.0013997554779052734]], [[0.0]], [[0.0]], [[0.0]], [[0.0]], [[-0.0005376338958740234]], [[0.0008568763732910156]], [[0.0]], [[-0.0001800060272216797]], [[0.0004832148551940918]], [[0.0]], [[-0.0001252889633178711]], [[-0.0004994869232177734]], [[-0.0004597306251525879]], [[-0.0007262229919433594]], [[0.009515762329101562]], [[0.00016880035400390625]], [[-6.334483623504639e-05]], [[0.0]], [[0.7274315357208252]], [[0.06719303131103516]], [[0.022983312606811523]], [[-0.0002884864807128906]], [[0.08650398254394531]], [[0.15823793411254883]], [[0.0]], [[0.0]], [[0.0]], [[0.0]], [[0.002017974853515625]], [[0.0]], [[0.0]], [[-0.0002884864807128906]], [[-1.162422776222229]], [[0.004770994186401367]], [[-0.0014435052871704102]], [[-0.03020918369293213]], [[0.04134702682495117]], [[0.049197688698768616]], [[-0.04585832357406616]], [[-0.1204259842634201]], [[0.013619571924209595]], [[-0.021130740642547607]], [[-0.03251194953918457]], [[2.980232238769531e-07]], [[3.910064697265625e-05]], [[0.0]], [[0.0]], [[0.0]], [[1.9073486328125e-06]], [[0.0]], [[0.0]], [[0.0]], [[0.0]], [[7.3909759521484375e-06]], [[-5.4836273193359375e-06]], [[0.0]], [[-3.0994415283203125e-06]], [[2.6226043701171875e-06]], [[-0.03597605228424072]], [[0.0]], [[0.0]], [[-3.2901763916015625e-05]], [[0.00040912628173828125]], [[0.0]], [[0.0]], [[0.0]], [[9.250640869140625e-05]], [[0.00041103363037109375]], [[0.0015411376953125]], [[0.0010662078857421875]], [[0.0]], [[0.0]], [[0.0]], [[0.0]], [[0.0023882389068603516]], [[0.0]], [[-0.00034999847412109375]], [[0.6644039154052734]], [[-0.017106056213378906]], [[-0.03171253204345703]], [[0.14638423919677734]], [[0.036299705505371094]], [[-0.0056149959564208984]], [[0.2863950729370117]], [[-0.11618947982788086]], [[0.008453130722045898]], [[0.0]], [[-0.0005197525024414062]], [[0.0]], [[-1.9073486328125e-06]], [[4.76837158203125e-07]], [[0.0]], [[0.0]], [[3.814697265625e-06]], [[-0.0145263671875]], [[4.76837158203125e-07]], [[0.0]], [[-4.172325134277344e-07]], [[1.7702579498291016e-05]], [[0.0014678239822387695]], [[-1.9073486328125e-05]], [[0.0]], [[0.0]], [[0.0]], [[0.0]], [[-0.1836681365966797]], [[-0.012035369873046875]], [[0.11402636766433716]], [[-0.4170205593109131]], [[-2.7179718017578125e-05]], [[-0.1589488983154297]], [[8.869171142578125e-05]], [[-4.291534423828125e-06]], [[-4.76837158203125e-07]], [[-3.790855407714844e-05]], [[-0.0007162094116210938]], [[-9.5367431640625e-07]], [[0.0]], [[0.0]], [[2.384185791015625e-07]], [[0.0]], [[0.0]], [[0.0]], [[0.0]], [[-5.960464477539063e-08]], [[1.430511474609375e-06]], [[0.0]], [[0.0]], [[1.1026859283447266e-06]], [[0.0]], [[0.0]], [[-3.814697265625e-06]], [[0.0]], [[0.0]], [[0.0]], [[0.0]], [[0.0]], [[0.0]], [[0.0]], [[0.0]], [[0.0]], [[0.0]], [[0.0]], [[0.0]], [[1.4744699001312256e-05]], [[0.0]], [[0.0]], [[0.00018334388732910156]], [[0.0]], [[0.0]], [[0.0]], [[0.0005501508712768555]], [[-0.0002455711364746094]], [[0.0]], [[-0.17745113372802734]], [[0.01818615198135376]], [[0.008470535278320312]], [[-0.00020229816436767578]], [[2.4080276489257812e-05]], [[7.486343383789062e-05]], [[0.14115619659423828]], [[0.02577933669090271]], [[-0.016346454620361328]], [[-0.08615982532501221]], [[0.006958507001399994]], [[-0.00783047080039978]], [[0.015337467193603516]], [[2.682209014892578e-07]], [[8.940696716308594e-08]], [[0.0]], [[0.0]], [[0.0]], [[0.0]], [[0.0]], [[0.0]], [[0.0]], [[0.0]], [[0.0]], [[0.0]], [[0.0]], [[0.0]], [[0.0]], [[0.0]], [[0.0]], [[2.130866050720215e-06]], [[0.0]], [[0.0]], [[4.76837158203125e-06]], [[0.0]], [[0.0]], [[0.0009975433349609375]], [[3.5762786865234375e-06]], [[0.0]], [[0.00020122528076171875]], [[-0.00013637542724609375]], [[-6.890296936035156e-05]], [[0.0006041526794433594]], [[1.1920928955078125e-06]], [[2.4568289518356323e-06]], [[3.9517879486083984e-05]], [[0.0]], [[0.0]], [[-0.0006895065307617188]], [[0.0]], [[3.612041473388672e-05]], [[-0.0031337738037109375]], [[-0.0029306411743164062]], [[0.2994203567504883]], [[0.014136314392089844]], [[0.008796155452728271]], [[-0.0013544559478759766]], [[-0.001987457275390625]], [[0.002651691436767578]], [[-0.0051059722900390625]], [[-0.004650115966796875]], [[-0.0006287097930908203]], [[0.00258636474609375]], [[0.004628658294677734]], [[0.01148223876953125]], [[0.0002071857452392578]], [[0.0016019344329833984]], [[-0.0005564689636230469]], [[0.0]], [[0.0]], [[0.00012350082397460938]], [[0.00016236305236816406]], [[0.0]], [[0.0]], [[0.0]], [[0.0]], [[0.0]], [[0.0]], [[0.0]], [[0.0]], [[0.0005421638488769531]], [[3.8623809814453125e-05]], [[0.0]], [[0.0]], [[-0.000873565673828125]], [[0.0010107755661010742]], [[1.0707881301641464e-06]], [[3.09087336063385e-05]], [[1.1175870895385742e-07]], [[-6.541609764099121e-05]], [[0.00014603137969970703]], [[-0.0009064674377441406]], [[0.00013971328735351562]], [[0.0]], [[0.0]], [[1.1548399925231934e-07]], [[0.0]], [[0.0]], [[-0.042617060244083405]], [[0.010318934917449951]], [[-5.245208740234375e-05]], [[-3.2782554626464844e-07]], [[-0.000162467360496521]], [[0.0]], [[-0.0077321529388427734]], [[0.0008276631124317646]], [[0.0]], [[-0.00021207332611083984]], [[0.0]], [[0.0]], [[0.0]], [[0.0]], [[0.0]], [[0.0]], [[0.0]], [[0.0]], [[0.0]], [[0.0]], [[0.0]], [[0.0]], [[0.0]], [[0.0]], [[0.0]], [[0.0]], [[0.0]], [[0.0]], [[0.0]], [[0.0]], [[0.0]], [[0.0]], [[0.0]], [[0.0]], [[0.0]], [[-4.7497451305389404e-07]], [[0.0]], [[0.0]], [[-0.0007119178771972656]], [[0.000240325927734375]], [[-0.0019807815551757812]], [[-0.00018215179443359375]], [[-0.0047760009765625]], [[-0.0011876821517944336]], [[-1.0504387319087982e-05]], [[1.1548399925231934e-07]], [[2.175569534301758e-06]], [[0.0018892288208007812]], [[0.0]], [[0.0]], [[0.0]], [[0.0]], [[0.0]], [[0.0]], [[0.0]], [[0.0]], [[0.0]], [[0.0]], [[0.0]], [[0.0]], [[0.0]], [[0.0]], [[0.0]], [[0.0]], [[0.0]], [[0.0]], [[0.0]], [[0.0]], [[0.0]], [[0.0]], [[0.0]], [[0.0]], [[0.0]], [[0.0]], [[0.0]], [[0.0]], [[0.0]], [[0.0]], [[0.0]], [[0.0]], [[0.0]], [[0.0]], [[0.0]], [[0.0]], [[0.0]], [[0.0]], [[0.0]], [[0.0]], [[0.0]], [[0.0]], [[0.0]]], \"firstDimensionName\": \"Layer\", \"secondDimensionName\": \"Neuron\"}\n",
       "    )\n",
       "    </script>"
      ],
      "text/plain": [
       "<circuitsvis.utils.render.RenderedHTML at 0x7fe00c195630>"
      ]
     },
     "execution_count": 215,
     "metadata": {},
     "output_type": "execute_result"
    }
   ],
   "source": [
    "ablate_feature_direction_display(full_text, best_feature, autoencoder)"
   ]
  },
  {
   "cell_type": "code",
   "execution_count": 216,
   "metadata": {},
   "outputs": [
    {
     "name": "stdout",
     "output_type": "stream",
     "text": [
      "[' (!', '(!', ' !', ' (!(', ' (_', ' ((', ' (((', ' len', '((', ' (__', ' constexpr', ' ([', '(((', ' isinstance', ' (*', 'ace', 'ign', ' let', '(_', ' (@']\n",
      "tensor([2.8407, 2.7246, 2.6397, 2.5455, 2.0136, 1.9589, 1.9386, 1.8794, 1.8727,\n",
      "        1.8505, 1.8408, 1.7883, 1.7520, 1.7261, 1.6638, 1.6316, 1.6249, 1.6043,\n",
      "        1.5876, 1.5766])\n"
     ]
    }
   ],
   "source": [
    "logit_lens(model,best_feature, smaller_dict, layer)"
   ]
  }
 ],
 "metadata": {
  "kernelspec": {
   "display_name": "logan",
   "language": "python",
   "name": "python3"
  },
  "language_info": {
   "codemirror_mode": {
    "name": "ipython",
    "version": 3
   },
   "file_extension": ".py",
   "mimetype": "text/x-python",
   "name": "python",
   "nbconvert_exporter": "python",
   "pygments_lexer": "ipython3",
   "version": "3.10.6"
  },
  "orig_nbformat": 4
 },
 "nbformat": 4,
 "nbformat_minor": 2
}
