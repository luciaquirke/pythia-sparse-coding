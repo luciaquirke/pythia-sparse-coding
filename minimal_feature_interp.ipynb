{
 "cells": [
  {
   "cell_type": "code",
   "execution_count": 4,
   "metadata": {},
   "outputs": [
    {
     "name": "stderr",
     "output_type": "stream",
     "text": [
      "Using pad_token, but it is not set yet.\n"
     ]
    },
    {
     "name": "stdout",
     "output_type": "stream",
     "text": [
      "Loaded pretrained model EleutherAI/pythia-70m-deduped into HookedTransformer\n"
     ]
    }
   ],
   "source": [
    "import torch\n",
    "from transformer_lens import HookedTransformer\n",
    "import numpy as np \n",
    "# autoencoder_filename = \"/home/mchorse/logan/sparse_coding/output_sweep_tied_mlpout_l1_r8/_9/learned_dicts.pt\"\n",
    "# autoencoder_filename = \"/home/mchorse/logan/sparse_coding/output_sweep_tied_mlpout_l2_r4/_19/learned_dicts.pt\"\n",
    "autoencoder_filename = \"/mnt/ssd-cluster/longrun2408/tied_residual_l4_r6/_31/learned_dicts.pt\"\n",
    "auto_num = 5 # Selects which specific autoencoder to use\n",
    "all_autoencoders = torch.load(autoencoder_filename)\n",
    "num_dictionaries = len(all_autoencoders)\n",
    "autoencoder, hyperparams = all_autoencoders[auto_num]\n",
    "l1_alpha = hyperparams['l1_alpha']\n",
    "autoencoder2, hyperparams2 = all_autoencoders[auto_num+1]\n",
    "smaller_dict = autoencoder.get_learned_dict()\n",
    "larger_dict = autoencoder2.get_learned_dict()\n",
    "\n",
    "#Change these settings to load the correct autoencoder\n",
    "layer = 4\n",
    "setting = \"residual\"\n",
    "# setting = \"attention\"\n",
    "# setting = \"mlp\"\n",
    "# setting = \"mlp_out\"\n",
    "model_name = \"EleutherAI/pythia-70m-deduped\"\n",
    "# model_name = \"EleutherAI/pythia-160m\"\n",
    "\n",
    "device = torch.device(\"cuda:4\" if torch.cuda.is_available() else \"cpu\")\n",
    "model = HookedTransformer.from_pretrained(model_name, device=device)\n",
    "\n",
    "if setting == \"residual\":\n",
    "    cache_name = f\"blocks.{layer}.hook_resid_post\"\n",
    "    neurons = model.cfg.d_model\n",
    "elif setting == \"mlp\":\n",
    "    cache_name = f\"blocks.{layer}.mlp.hook_post\"\n",
    "    neurons = model.cfg.d_mlp\n",
    "elif setting == \"attention\":\n",
    "    cache_name = f\"blocks.{layer}.hook_attn_out\"\n",
    "    neurons = model.cfg.d_model\n",
    "elif setting == \"mlp_out\":\n",
    "    cache_name = f\"blocks.{layer}.hook_mlp_out\"\n",
    "    neurons = model.cfg.d_model\n",
    "else:\n",
    "    raise NotImplementedError"
   ]
  },
  {
   "cell_type": "code",
   "execution_count": 5,
   "metadata": {},
   "outputs": [
    {
     "data": {
      "text/plain": [
       "({'dict_size': 3072, 'l1_alpha': 0.0013894954463467002},\n",
       " {'dict_size': 3072, 'l1_alpha': 0.0026826958637684584})"
      ]
     },
     "execution_count": 5,
     "metadata": {},
     "output_type": "execute_result"
    }
   ],
   "source": [
    "hyperparams, hyperparams2"
   ]
  },
  {
   "attachments": {},
   "cell_type": "markdown",
   "metadata": {},
   "source": [
    "# MCS\n",
    "Max cosine similarity between one dictionary & another one. If they learned the same feature, then they'll have high cosine similarity. \n",
    "\n",
    "If two dictionaries learned it, it's probably a real feature."
   ]
  },
  {
   "cell_type": "code",
   "execution_count": 6,
   "metadata": {},
   "outputs": [
    {
     "name": "stdout",
     "output_type": "stream",
     "text": [
      "('# of features above 0.9:', 1000)\n"
     ]
    },
    {
     "data": {
      "image/png": "[encoded data removed]",
      "text/plain": [
       "<Figure size 640x480 with 1 Axes>"
      ]
     },
     "metadata": {},
     "output_type": "display_data"
    }
   ],
   "source": [
    "from scipy.optimize import linear_sum_assignment\n",
    "import matplotlib.pyplot as plt\n",
    "#Dictionary Comparison\n",
    "smaller_dict_features, _ = smaller_dict.shape\n",
    "larger_dict_features, _ = larger_dict.shape\n",
    "larger_dict = larger_dict.to(device)\n",
    "# Hungary algorithm\n",
    "# Calculate all cosine similarities and store in a 2D array\n",
    "cos_sims = np.zeros((smaller_dict_features, larger_dict_features))\n",
    "for idx, vector in enumerate(smaller_dict):\n",
    "    cos_sims[idx] = torch.nn.functional.cosine_similarity(vector.to(device), larger_dict, dim=1).cpu().numpy()\n",
    "# Convert to a minimization problem\n",
    "cos_sims = 1 - cos_sims\n",
    "# Use the Hungarian algorithm to solve the assignment problem\n",
    "row_ind, col_ind = linear_sum_assignment(cos_sims)\n",
    "# Retrieve the max cosine similarities and corresponding indices\n",
    "max_cosine_similarities = 1 - cos_sims[row_ind, col_ind]\n",
    "\n",
    "# Get the indices of the max cosine similarities in descending order\n",
    "max_indices = np.argsort(max_cosine_similarities)[::-1]\n",
    "max_cosine_similarities[max_indices][:20]\n",
    "print((\"# of features above 0.9:\", (max_cosine_similarities > .9).sum()))\n",
    "# Plot histogram of max_cosine_similarities\n",
    "plt.hist(max_cosine_similarities, bins=20)\n",
    "plt.show()"
   ]
  },
  {
   "attachments": {},
   "cell_type": "markdown",
   "metadata": {},
   "source": [
    "# Model activations & Dictionary Activations"
   ]
  },
  {
   "cell_type": "code",
   "execution_count": 7,
   "metadata": {},
   "outputs": [
    {
     "name": "stderr",
     "output_type": "stream",
     "text": [
      "Map: 100%|██████████| 10000/10000 [00:13<00:00, 753.43 examples/s]\n",
      "Filter: 100%|██████████| 10000/10000 [00:07<00:00, 1250.89 examples/s]\n",
      "Map: 100%|██████████| 9862/9862 [00:04<00:00, 2099.83 examples/s]\n"
     ]
    }
   ],
   "source": [
    "# Downnload dataset\n",
    "from datasets import Dataset, load_dataset\n",
    "dataset_name = \"NeelNanda/pile-10k\"\n",
    "token_amount= 40\n",
    "dataset = load_dataset(dataset_name, split=\"train\").map(\n",
    "    lambda x: model.tokenizer(x['text']),\n",
    "    batched=True,\n",
    ").filter(\n",
    "    lambda x: len(x['input_ids']) > token_amount\n",
    ").map(\n",
    "    lambda x: {'input_ids': x['input_ids'][:token_amount]}\n",
    ")"
   ]
  },
  {
   "cell_type": "code",
   "execution_count": 8,
   "metadata": {},
   "outputs": [
    {
     "name": "stderr",
     "output_type": "stream",
     "text": [
      "100%|██████████| 309/309 [00:07<00:00, 43.56it/s]\n"
     ]
    }
   ],
   "source": [
    "# Now we can use the model to get the activations\n",
    "from torch.utils.data import DataLoader\n",
    "from tqdm.auto import tqdm\n",
    "from einops import rearrange\n",
    "# neurons = model.W_in.shape[-1]\n",
    "neurons = model.cfg.d_model\n",
    "datapoints = dataset.num_rows\n",
    "batch_size = 32\n",
    "neuron_activations = torch.zeros((datapoints*token_amount, neurons))\n",
    "dictionary_activations = torch.zeros((datapoints*token_amount, smaller_dict_features))\n",
    "smaller_auto_encoder = autoencoder\n",
    "smaller_auto_encoder.to_device(device)\n",
    "\n",
    "with torch.no_grad(), dataset.formatted_as(\"pt\"):\n",
    "    dl = DataLoader(dataset[\"input_ids\"], batch_size=batch_size)\n",
    "    for i, batch in enumerate(tqdm(dl)):\n",
    "        _, cache = model.run_with_cache(batch.to(device))\n",
    "        batched_neuron_activations = rearrange(cache[cache_name], \"b s n -> (b s) n\" )\n",
    "        neuron_activations[i*batch_size*token_amount:(i+1)*batch_size*token_amount,:] = batched_neuron_activations.cpu()\n",
    "        batched_dictionary_activations = smaller_auto_encoder.encode(batched_neuron_activations)\n",
    "        dictionary_activations[i*batch_size*token_amount:(i+1)*batch_size*token_amount,:] = batched_dictionary_activations.cpu()"
   ]
  },
  {
   "cell_type": "code",
   "execution_count": 7,
   "metadata": {},
   "outputs": [
    {
     "data": {
      "text/plain": [
       "tensor(71.2492)"
      ]
     },
     "execution_count": 7,
     "metadata": {},
     "output_type": "execute_result"
    }
   ],
   "source": [
    "dictionary_activations[:100000].count_nonzero(dim=1).float().mean()"
   ]
  },
  {
   "attachments": {},
   "cell_type": "markdown",
   "metadata": {},
   "source": [
    "# Feature Activation Analysis"
   ]
  },
  {
   "cell_type": "markdown",
   "metadata": {},
   "source": [
    "## Useful Functions"
   ]
  },
  {
   "cell_type": "code",
   "execution_count": 9,
   "metadata": {},
   "outputs": [],
   "source": [
    "from circuitsvis.activations import text_neuron_activations\n",
    "# Get the activations for the best dict features\n",
    "def get_feature_datapoints(feature_index, dictionary_activations, dataset, k=10, setting=\"max\"):\n",
    "    best_feature_activations = dictionary_activations[:, feature_index]\n",
    "    # Sort the features by activation, get the indices\n",
    "    if setting==\"max\":\n",
    "        found_indices = torch.argsort(best_feature_activations, descending=True)[:k]\n",
    "    elif setting==\"uniform\":\n",
    "        min_value = torch.min(best_feature_activations)\n",
    "        max_value = torch.max(best_feature_activations)\n",
    "\n",
    "        # Define the number of bins\n",
    "        num_bins = k\n",
    "\n",
    "        # Calculate the bin boundaries as linear interpolation between min and max\n",
    "        bin_boundaries = torch.linspace(min_value, max_value, num_bins + 1)\n",
    "\n",
    "        # Assign each activation to its respective bin\n",
    "        bins = torch.bucketize(best_feature_activations, bin_boundaries)\n",
    "\n",
    "        # Initialize a list to store the sampled indices\n",
    "        sampled_indices = []\n",
    "\n",
    "        # Sample from each bin\n",
    "        for bin_idx in torch.unique(bins):\n",
    "            # Get the indices corresponding to the current bin\n",
    "            bin_indices = torch.nonzero(bins == bin_idx, as_tuple=False).squeeze(dim=1)\n",
    "            \n",
    "            # Randomly sample from the current bin\n",
    "            sampled_indices.extend(np.random.choice(bin_indices, size=1, replace=False))\n",
    "\n",
    "        # Convert the sampled indices to a PyTorch tensor & reverse order\n",
    "        found_indices = torch.tensor(sampled_indices).long().flip(dims=[0])\n",
    "    else: # random\n",
    "        # get nonzero indices\n",
    "        nonzero_indices = torch.nonzero(best_feature_activations)[:, 0]\n",
    "        # shuffle\n",
    "        shuffled_indices = nonzero_indices[torch.randperm(nonzero_indices.shape[0])]\n",
    "        found_indices = shuffled_indices[:k]\n",
    "    datapoint_indices =[np.unravel_index(i, (datapoints, token_amount)) for i in found_indices]\n",
    "    text_list = []\n",
    "    full_text = []\n",
    "    token_list = []\n",
    "    full_token_list = []\n",
    "    for md, s_ind in datapoint_indices:\n",
    "        md = int(md)\n",
    "        s_ind = int(s_ind)\n",
    "        full_tok = torch.tensor(dataset[md][\"input_ids\"])\n",
    "        full_text.append(model.tokenizer.decode(full_tok))\n",
    "        tok = dataset[md][\"input_ids\"][:s_ind+1]\n",
    "        text = model.tokenizer.decode(tok)\n",
    "        text_list.append(text)\n",
    "        token_list.append(tok)\n",
    "        full_token_list.append(full_tok)\n",
    "    return text_list, full_text, token_list, full_token_list\n",
    "\n",
    "def get_neuron_activation(token, feature, model, setting=\"dictionary_basis\"):\n",
    "    with torch.no_grad():\n",
    "        _, cache = model.run_with_cache(token.to(model.cfg.device))\n",
    "        neuron_act_batch = cache[cache_name]\n",
    "        if setting==\"dictionary_basis\":\n",
    "            neuron_act_batch = rearrange(neuron_act_batch, \"b s n -> (b s) n\" )\n",
    "            act = smaller_auto_encoder.encode(neuron_act_batch)\n",
    "            return act[:, feature].tolist()\n",
    "        else: # neuron/residual basis\n",
    "            return neuron_act_batch[0, :, feature].tolist()\n",
    "\n",
    "def ablate_text(text, feature, model, setting=\"dictionary_basis\", return_activations=False):\n",
    "    if isinstance(text, str):\n",
    "        text = [text]\n",
    "    display_text_list = []\n",
    "    activation_list = []\n",
    "    for t in text:\n",
    "        # Convert text into tokens\n",
    "        if isinstance(t, str): # If the text is a list of tokens\n",
    "            split_text = model.to_str_tokens(t, prepend_bos=False)\n",
    "            tokens = model.to_tokens(t, prepend_bos=False)\n",
    "        else: # t equals tokens\n",
    "            tokens = t\n",
    "            split_text = model.to_str_tokens(t, prepend_bos=False)\n",
    "        seq_size = tokens.shape[1]\n",
    "        if(seq_size == 1): # If the text is a single token, we can't ablate it\n",
    "            continue\n",
    "        original = get_neuron_activation(tokens, feature, model)[-1]\n",
    "        changed_activations = torch.zeros(seq_size, device=device).cpu()\n",
    "        for i in range(seq_size):\n",
    "            # Remove the i'th token from the input\n",
    "            ablated_tokens = torch.cat((tokens[:,:i], tokens[:,i+1:]), dim=1)\n",
    "            changed_activations[i] += get_neuron_activation(ablated_tokens, feature, model, setting)[-1]\n",
    "        changed_activations -= original\n",
    "        display_text_list += [x.replace('\\n', '\\\\newline') for x in split_text] + [\"\\n\"]\n",
    "        activation_list += changed_activations.tolist() + [0.0]\n",
    "    activation_list = torch.tensor(activation_list).reshape(-1,1,1)\n",
    "    if return_activations:\n",
    "        return activation_list, display_text_list\n",
    "    else:\n",
    "        return text_neuron_activations(tokens=display_text_list, activations=activation_list)\n",
    "\n",
    "def visualize_text(text, feature, model, setting=\"dictionary_basis\", max_activation = None, return_activations=False):\n",
    "    if isinstance(text, str):\n",
    "        text = [text]\n",
    "    if isinstance(feature, int):\n",
    "        feature = [feature]\n",
    "    display_text_list = []\n",
    "    act_list = []\n",
    "    for t in text:\n",
    "        if isinstance(t, str): # If the text is a list of tokens\n",
    "            split_text = model.to_str_tokens(t, prepend_bos=False)\n",
    "            token = model.to_tokens(t, prepend_bos=False)\n",
    "        else: # t are tokens\n",
    "            token = t\n",
    "            split_text = model.to_str_tokens(t, prepend_bos=False)\n",
    "        for f in feature:\n",
    "            display_text_list += [x.replace('\\n', '\\\\newline') for x in split_text] + [\"\\n\"]\n",
    "            act_list += get_neuron_activation(token, f, model, setting) + [0.0]\n",
    "    act_list = torch.tensor(act_list).reshape(-1,1,1)\n",
    "    if(max_activation is not None):\n",
    "        act_list = torch.clamp(act_list, max=max_activation)\n",
    "    if return_activations:\n",
    "        return act_list, display_text_list\n",
    "    else:\n",
    "        return text_neuron_activations(tokens=display_text_list, activations=act_list)\n",
    "# Ablate the feature direction of the tokens\n",
    "# token_list is a list of tokens, convert to tensor of shape (batch_size, seq_len)\n",
    "from einops import rearrange\n",
    "def ablate_feature_direction(tokens, feature, model, autoencoder):\n",
    "    def mlp_ablation_hook(value, hook):\n",
    "        # Rearrange to fit autoencoder\n",
    "        int_val = rearrange(value, 'b s h -> (b s) h')\n",
    "\n",
    "        # Run through the autoencoder\n",
    "        act = autoencoder.encode(int_val)\n",
    "        feature_to_ablate = feature # TODO: bring this out of the function\n",
    "\n",
    "        # Subtract value with feature direction*act_of_feature\n",
    "        dictionary_for_this_autoencoder = autoencoder.get_learned_dict()\n",
    "        feature_direction = torch.outer(act[:, feature_to_ablate].squeeze(), dictionary_for_this_autoencoder[feature_to_ablate].squeeze())\n",
    "        batch, seq_len, hidden_size = value.shape\n",
    "        feature_direction = rearrange(feature_direction, '(b s) h -> b s h', b=batch, s=seq_len)\n",
    "        value -= feature_direction\n",
    "        return value\n",
    "\n",
    "    return model.run_with_hooks(tokens, \n",
    "        fwd_hooks=[(\n",
    "            cache_name, \n",
    "            mlp_ablation_hook\n",
    "            )]\n",
    "        )\n",
    "def add_feature_direction(tokens, feature, model, autoencoder, scalar=1.0):\n",
    "    def residual_add_hook(value, hook):\n",
    "        feature_direction = autoencoder.decoder.weight[:, feature].squeeze()\n",
    "        value += scalar*feature_direction\n",
    "        return value\n",
    "\n",
    "    return model.run_with_hooks(tokens, \n",
    "        fwd_hooks=[(\n",
    "            cache_name,\n",
    "            residual_add_hook\n",
    "            )]\n",
    "        )\n",
    "def ablate_feature_direction_display(text, features=None, setting=\"true_tokens\", verbose=False):\n",
    "\n",
    "    if features==None:\n",
    "        features = torch.tensor([best_feature])\n",
    "    if isinstance(features, int):\n",
    "        features = torch.tensor([features])\n",
    "    if isinstance(features, list):\n",
    "        features = torch.tensor(features)\n",
    "    if isinstance(text, str):\n",
    "        text = [text]\n",
    "    text_list = []\n",
    "    logit_list = []\n",
    "    for t in text:\n",
    "        tokens = model.to_tokens(t, prepend_bos=False)\n",
    "        with torch.no_grad():\n",
    "            original_logits = model(tokens).log_softmax(-1).cpu()\n",
    "            ablated_logits = ablate_feature_direction(tokens, features, model, smaller_auto_encoder).log_softmax(-1).cpu()\n",
    "        diff_logits = ablated_logits  - original_logits# ablated > original -> negative diff\n",
    "        tokens = tokens.cpu()\n",
    "        if setting == \"true_tokens\":\n",
    "            split_text = model.to_str_tokens(t, prepend_bos=False)\n",
    "            gather_tokens = rearrange(tokens[:,1:], \"b s -> b s 1\") # TODO: verify this is correct\n",
    "            # Gather the logits for the true tokens\n",
    "            diff = rearrange(diff_logits[:, :-1].gather(-1,gather_tokens), \"b s n -> (b s n)\")\n",
    "        elif setting == \"max\":\n",
    "            # Negate the diff_logits to see which tokens have the largest effect on the neuron\n",
    "            val, ind = (-1*diff_logits).max(-1)\n",
    "            diff = rearrange(val[:, :-1], \"b s -> (b s)\")\n",
    "            diff*= -1 # Negate the values gathered\n",
    "            split_text = model.to_str_tokens(ind, prepend_bos=False)\n",
    "            gather_tokens = rearrange(ind[:,1:], \"1 s -> 1 s 1\")\n",
    "        split_text = split_text[1:] # Remove the first token since we're not predicting it\n",
    "        if(verbose):\n",
    "            text_list += [x.replace('\\n', '\\\\newline') for x in split_text] + [\"\\n\"]\n",
    "            text_list += [x.replace('\\n', '\\\\newline') for x in split_text] + [\"\\n\"]\n",
    "            orig = rearrange(original_logits[:, :-1].gather(-1, gather_tokens), \"b s n -> (b s n)\")\n",
    "            ablated = rearrange(ablated_logits[:, :-1].gather(-1, gather_tokens), \"b s n -> (b s n)\")\n",
    "            logit_list += orig.tolist() + [0.0]\n",
    "            logit_list += ablated.tolist() + [0.0]\n",
    "        text_list += [x.replace('\\n', '\\\\newline') for x in split_text] + [\"\\n\"]\n",
    "        logit_list += diff.tolist() + [0.0]\n",
    "    logit_list = torch.tensor(logit_list).reshape(-1,1,1)\n",
    "    if verbose:\n",
    "        print(f\"Max & Min logit-diff: {logit_list.max().item():.2f} & {logit_list.min().item():.2f}\")\n",
    "    return text_neuron_activations(tokens=text_list, activations=logit_list)\n",
    "def generate_text(input_text, num_tokens, model, autoencoder, feature, temperature=0.7, setting=\"add\", scalar=1.0):\n",
    "    # Convert input text to tokens\n",
    "    input_ids = model.tokenizer.encode(input_text, return_tensors='pt').to(device)\n",
    "\n",
    "    for _ in range(num_tokens):\n",
    "        # Generate logits\n",
    "        with torch.no_grad():\n",
    "            if(setting==\"add\"):\n",
    "                logits = add_feature_direction(input_ids, feature, model, autoencoder, scalar=scalar)\n",
    "            else:\n",
    "                logits = model(input_ids)\n",
    "\n",
    "        # Apply temperature\n",
    "        logits = logits / temperature\n",
    "\n",
    "        # Sample from the distribution\n",
    "        probs = torch.nn.functional.softmax(logits[:, -1, :], dim=-1)\n",
    "        predicted_token = torch.multinomial(probs, num_samples=1)\n",
    "\n",
    "        # Append predicted token to input_ids\n",
    "        input_ids = torch.cat((input_ids, predicted_token), dim=-1)\n",
    "\n",
    "    # Decode the tokens to text\n",
    "    output_text = model.tokenizer.decode(input_ids[0])\n",
    "\n",
    "    return output_text\n",
    "\n",
    "# Logit Lens\n",
    "def logit_lens(model, best_feature, smaller_dict, layer):\n",
    "    with torch.no_grad():\n",
    "        # There are never-used tokens, which have high norm. We want to ignore these.\n",
    "        bad_ind = (model.W_U.norm(dim=0) > 20)\n",
    "        feature_direction = smaller_dict[best_feature].to(device)\n",
    "        # feature_direction = torch.matmul(feature_direction, model.W_out[layer]) # if MLP\n",
    "        logits = torch.matmul(feature_direction, model.W_U).cpu()\n",
    "    # Don't include bad indices\n",
    "    logits[bad_ind] = -1000\n",
    "    topk_values, topk_indices = torch.topk(logits, 20)\n",
    "    top_text = model.to_str_tokens(topk_indices)\n",
    "    print(f\"{top_text}\")\n",
    "    print(topk_values)\n"
   ]
  },
  {
   "cell_type": "code",
   "execution_count": 107,
   "metadata": {},
   "outputs": [],
   "source": [
    "# Better feature search for token level features\n",
    "# Find top-k activating features index for each feature\n",
    "num_data, num_features = dictionary_activations.shape\n",
    "topk = 20\n",
    "search_first = 10000\n",
    "threshold = 0.1\n",
    "topk_features = torch.arange(topk).repeat(num_features, 1)\n",
    "for i in range(num_features):\n",
    "    # topk_features[i] = torch.topk(dictionary_activations[:search_first, i], topk)[1]\n",
    "    # Convert feature index into (datapoint, seq) index\n",
    "    activations = dictionary_activations[:search_first, i]\n",
    "    sorted_indices = torch.argsort(activations)  # Sort activations\n",
    "    non_zero_indices = sorted_indices[activations[sorted_indices] > threshold]  # Select only non-zero activations\n",
    "    \n",
    "    if len(non_zero_indices) < 10:  # No non-zero activations for this feature\n",
    "        continue\n",
    "\n",
    "    # # Take 'topk' evenly spaced samples from non_zero_indices\n",
    "    selected_indices = torch.linspace(0, len(non_zero_indices) - 1, steps=topk).long()\n",
    "    topk_features[i] = non_zero_indices[selected_indices]\n",
    "    # topk_features[i] = torch.cat((non_zero_indices[selected_indices][:topk//2], non_zero_indices[selected_indices][-(topk//2):]))\n",
    "\n",
    "topk_features = topk_features.long()"
   ]
  },
  {
   "cell_type": "code",
   "execution_count": 109,
   "metadata": {},
   "outputs": [
    {
     "data": {
      "text/plain": [
       "tensor([0.1006, 0.1052, 0.1133, 0.1422, 0.1619, 0.1797, 0.1864, 0.2066, 0.2259,\n",
       "        0.2440, 0.2579, 0.2783, 0.2948, 0.3184, 0.3560, 0.3875, 0.4872, 0.5467,\n",
       "        0.6584, 4.8114])"
      ]
     },
     "execution_count": 109,
     "metadata": {},
     "output_type": "execute_result"
    }
   ],
   "source": [
    "activations[non_zero_indices[selected_indices]]"
   ]
  },
  {
   "cell_type": "code",
   "execution_count": 110,
   "metadata": {},
   "outputs": [
    {
     "name": "stderr",
     "output_type": "stream",
     "text": [
      "61440it [01:29, 685.25it/s] \n"
     ]
    }
   ],
   "source": [
    "multi_dim_indices = np.unravel_index(topk_features.flatten(), (datapoints, token_amount))\n",
    "\n",
    "tokens = np.zeros((num_features*topk), dtype=int)\n",
    "for i, (md, s_ind) in enumerate(tqdm(zip(*multi_dim_indices))):\n",
    "    tokens[i] = dataset[int(md)][\"input_ids\"][int(s_ind)]\n",
    "\n",
    "tokens = tokens.reshape(num_features, topk)"
   ]
  },
  {
   "cell_type": "code",
   "execution_count": 111,
   "metadata": {},
   "outputs": [
    {
     "name": "stdout",
     "output_type": "stream",
     "text": [
      "Most common tokens: [497 187 285 ... 275  50 658]\n",
      "Count of most common tokens: [20 20 20 ...  1  1  1]\n",
      "Argsorted indices: [2884   69  949 ... 1609 1612 1535]\n"
     ]
    }
   ],
   "source": [
    "from collections import Counter\n",
    "\n",
    "most_common_tokens = []\n",
    "most_common_tokens_count = []\n",
    "for feature_tokens in tokens:\n",
    "    token_counter = Counter(feature_tokens)\n",
    "    most_common_token, count = token_counter.most_common(1)[0]\n",
    "    \n",
    "    most_common_tokens.append(most_common_token)\n",
    "    most_common_tokens_count.append(count)\n",
    "\n",
    "# Convert to NumPy arrays for further manipulation\n",
    "most_common_tokens = np.array(most_common_tokens)\n",
    "most_common_tokens_count = np.array(most_common_tokens_count)\n",
    "\n",
    "# Argsort the array\n",
    "sorted_indices = np.argsort(most_common_tokens_count)[::-1]\n",
    "\n",
    "print(\"Most common tokens:\", most_common_tokens)\n",
    "print(\"Count of most common tokens:\", most_common_tokens_count[sorted_indices])\n",
    "print(\"Argsorted indices:\", sorted_indices)\n"
   ]
  },
  {
   "cell_type": "code",
   "execution_count": 203,
   "metadata": {},
   "outputs": [
    {
     "data": {
      "text/plain": [
       "([('\\n', 59),\n",
       "  (',', 18),\n",
       "  ('-', 16),\n",
       "  ('.', 15),\n",
       "  (' the', 14),\n",
       "  (' and', 9),\n",
       "  ('Q', 8),\n",
       "  (' to', 6),\n",
       "  (' a', 6),\n",
       "  (' of', 6),\n",
       "  (' (', 5),\n",
       "  (' in', 5),\n",
       "  (':', 4),\n",
       "  ('’', 3),\n",
       "  ('/', 3),\n",
       "  (' that', 2),\n",
       "  (' it', 2),\n",
       "  (' is', 2),\n",
       "  ('  ', 2),\n",
       "  (' have', 1)],\n",
       " ['\\n',\n",
       "  ',',\n",
       "  '-',\n",
       "  '.',\n",
       "  ' the',\n",
       "  ' and',\n",
       "  'Q',\n",
       "  ' to',\n",
       "  ' a',\n",
       "  ' of',\n",
       "  ' (',\n",
       "  ' in',\n",
       "  ':',\n",
       "  '’',\n",
       "  '/',\n",
       "  ' that',\n",
       "  ' it',\n",
       "  ' is',\n",
       "  '  ',\n",
       "  ' have'])"
      ]
     },
     "execution_count": 203,
     "metadata": {},
     "output_type": "execute_result"
    }
   ],
   "source": [
    "most_com_tok = most_common_tokens[sorted_indices][:200]\n",
    "# Count the number of times each token appears\n",
    "c =  Counter(most_com_tok).most_common(20)\n",
    "[(model.tokenizer.decode([x[0]]), x[1]) for x in c], [model.tokenizer.decode([x[0]]) for x in c]"
   ]
  },
  {
   "cell_type": "code",
   "execution_count": 222,
   "metadata": {},
   "outputs": [
    {
     "data": {
      "text/plain": [
       "[352, 310, 50276, 452]"
      ]
     },
     "execution_count": 222,
     "metadata": {},
     "output_type": "execute_result"
    }
   ],
   "source": [
    "a = [x[0] for x in c]\n",
    "tokens_to_check = [187, 13, 14, 15, 253, 285, 50, 281, 247, 273, 313, 275, 27, 457, 16, 326, 352, 310, 50276, 452]"
   ]
  },
  {
   "cell_type": "code",
   "execution_count": 204,
   "metadata": {},
   "outputs": [
    {
     "data": {
      "text/plain": [
       "(array([2884,   69,  949, 1770, 2052, 2004,  156,   97,  307, 2823]),\n",
       " array([20, 20, 20, 20, 19, 19, 19, 19, 19, 19]),\n",
       " array([187, 187, 187, 187, 187, 187, 187, 187, 187, 187]))"
      ]
     },
     "execution_count": 204,
     "metadata": {},
     "output_type": "execute_result"
    }
   ],
   "source": [
    "sorted_indices[:10], most_common_tokens_count[sorted_indices][:10], most_common_tokens[sorted_indices][:10]"
   ]
  },
  {
   "cell_type": "markdown",
   "metadata": {},
   "source": [
    "# Feature Search"
   ]
  },
  {
   "cell_type": "code",
   "execution_count": 9,
   "metadata": {},
   "outputs": [
    {
     "name": "stdout",
     "output_type": "stream",
     "text": [
      "Activations: [6.07, 5.13, 2.41, 1.56, 1.11, 0.98, 0.88, 0.84, 0.73, 0.66]\n",
      "Feature_ids [1841, 1034, 1987, 1448, 776, 1319, 1217, 1603, 1594, 1500]\n"
     ]
    }
   ],
   "source": [
    "# t = \" I do like a\"\n",
    "t = \" He had a first one (1), and then a second (2\"\n",
    "split_text = model.to_str_tokens(t, prepend_bos=False)\n",
    "token = model.to_tokens(t, prepend_bos=False)\n",
    "_, cache = model.run_with_cache(token.to(model.cfg.device))\n",
    "neuron_act_batch = cache[cache_name]\n",
    "act = smaller_auto_encoder.encode(neuron_act_batch.squeeze())\n",
    "neg = \" He had a first one (1), and then a second 2\"\n",
    "split_text = model.to_str_tokens(neg, prepend_bos=False)\n",
    "token = model.to_tokens(neg, prepend_bos=False)\n",
    "_, cache = model.run_with_cache(token.to(model.cfg.device))\n",
    "neuron_act_batch = cache[cache_name]\n",
    "act[-1, :] -= smaller_auto_encoder.encode(neuron_act_batch.squeeze())[-1,:]\n",
    "v, i = act[-1, :].topk(10)\n",
    "\n",
    "print(\"Activations:\",[round(val,2) for val in v.tolist()])\n",
    "print(\"Feature_ids\", i.tolist())"
   ]
  },
  {
   "cell_type": "markdown",
   "metadata": {},
   "source": [
    "# Feature Interp\n",
    "Investigate the example sentences the activate this feature.\n",
    "\n",
    "Max: show max activating (tokens,contexts)\n",
    "\n",
    "Uniform: Show range of activations from each bin (e.g. sample an example from 1-2, 2-3, etc). \n",
    "[Note: if a feature is monosemantic, then the full range of activations should be that feature, not just max-activating ones]\n",
    "\n",
    "Full_text: shows the full text example\n",
    "\n",
    "Text_list: shows up to the most activating example (try w/ max activating on a couple of examples to see)\n",
    "\n",
    "ablate_text: remove the context one token at a time, and show the decrease/increase in activation of that feature\n",
    "\n",
    "ablate_feature_direction: removes feature direction from model's activation mid-inference, showing the logit diff in the output for every token.\n",
    "\n",
    "logit_lens: show the logit lens for that feature. If matches ablate_feature_direction, then the computation path is through the residual stream, else, it's through future layers"
   ]
  },
  {
   "cell_type": "code",
   "execution_count": 197,
   "metadata": {},
   "outputs": [
    {
     "name": "stdout",
     "output_type": "stream",
     "text": [
      "14\n",
      "Feature index: 8\n",
      "MCS: 0.783255934715271\n"
     ]
    },
    {
     "data": {
      "text/html": [
       "<div id=\"circuits-vis-c19e8207-d98e\" style=\"margin: 15px 0;\"/>\n",
       "    <script crossorigin type=\"module\">\n",
       "    import { render, TextNeuronActivations } from \"https://unpkg.com/circuitsvis@1.41.0/dist/cdn/esm.js\";\n",
       "    render(\n",
       "      \"circuits-vis-c19e8207-d98e\",\n",
       "      TextNeuronActivations,\n",
       "      {\"tokens\": [\"{\", \"\\\\newline\", \"  \", \"\\\"_\", \"args\", \"\\\":\", \" [\", \"\\\\newline\", \"    \", \"[\", \"\\\\newline\", \"      \", \"{\", \"\\\\newline\", \"        \", \"\\\"\", \"raw\", \"\\\":\", \" \\\"\", \"os\", \"-\", \"hom\", \"ed\", \"ir\", \"@\", \"^\", \"1\", \".\", \"0\", \".\", \"0\", \"\\\",\", \"\\\\newline\", \"        \", \"\\\"\", \"scope\", \"\\\":\", \" null\", \",\", \"\\\\newline\", \"\\n\", \"[\", \"\\\\newline\", \"    \", \"{\", \"\\\\newline\", \"        \", \"\\\"\", \"Event\", \"Code\", \"\\\":\", \" \\\"\", \"0\", \"xE\", \"8\", \"\\\",\", \"\\\\newline\", \"        \", \"\\\"\", \"Counter\", \"\\\":\", \" \\\"\", \"0\", \",\", \"1\", \",\", \"2\", \",\", \"3\", \"\\\",\", \"\\\\newline\", \"\\n\", \"package\", \"(\", \"default\", \"_\", \"visibility\", \" =\", \" [\\\"\", \"//\", \"visibility\", \":\", \"public\", \"\\\"])\", \"\\\\newline\", \"\\\\newline\", \"load\", \"(\", \"\\\\newline\", \"    \", \"\\\"\", \"@\", \"io\", \"_\", \"baz\", \"el\", \"_\", \"rules\", \"_\", \"go\", \"//\", \"go\", \":\", \"def\", \".\", \"bz\", \"l\", \"\\\",\", \"\\\\newline\", \"\\n\", \"{\", \"\\\\newline\", \"  \", \"\\\"\", \"images\", \"\\\"\", \" :\", \" [\", \"\\\\newline\", \"    \", \"{\", \"\\\\newline\", \"      \", \"\\\"\", \"idi\", \"om\", \"\\\"\", \" :\", \" \\\"\", \"universal\", \"\\\",\", \"\\\\newline\", \"\\n\", \"{%\", \" if\", \" sc\", \"id\", \" %}\", \"\\\\newline\", \"SELECT\", \"\\\\newline\", \"    \", \"cl\", \".\", \"oid\", \" as\", \" o\", \"id\", \",\", \"\\\\newline\", \"    \", \"rel\", \"name\", \" as\", \" name\", \",\", \"\\\\newline\", \"    \", \"n\", \"sp\", \".\", \"n\", \"sp\", \"name\", \" as\", \" schema\", \",\", \"\\\\newline\", \"\\n\", \"package\", \" raft\", \"\\\\newline\", \"\\\\newline\", \"import\", \" (\", \"\\\\newline\", \"\\t\", \"\\\"\", \"log\", \"\\\"\", \"\\\\newline\", \"\\t\", \"\\\"\", \"os\", \"\\\"\", \"\\\\newline\", \"\\n\", \"{\", \"\\\\newline\", \"  \", \"\\\"\", \"type\", \"\\\":\", \" \\\"\", \"mine\", \"craft\", \":\", \"craft\", \"ing\", \"_\", \"shaped\", \"\\\",\", \"\\\\newline\", \"  \", \"\\\"\", \"pattern\", \"\\\":\", \" [\", \"\\\\newline\", \"    \", \"\\\"\", \"X\", \"  \", \"\\\",\", \"\\\\newline\", \"    \", \"\\\"\", \"XX\", \" \\\",\", \"\\\\newline\", \"    \", \"\\\"\", \"XXX\", \"\\\"\", \"\\\\newline\", \"\\n\", \"\\ufeff\", \"namespace\", \" Kell\", \"erman\", \"Software\", \".\", \"Compare\", \"Net\", \"Objects\", \"Tests\", \".\", \"Test\", \"Classes\", \"\\r\", \"\\\\newline\", \"{\", \"\\r\\\\newline\", \"    \", \"public\", \" interface\", \" IL\", \"ab\", \"Test\", \"Spec\", \"imen\", \"St\", \"ability\", \"\\r\\\\newline\", \"    \", \"{\", \"\\r\\\\newline\", \"        \", \"string\", \" Temperature\", \"Description\", \"\\r\\\\newline\", \"\\n\", \"{\", \"\\\\newline\", \"  \", \"\\\"\", \"short\", \"_\", \"name\", \"\\\":\", \" \\\"\", \"Re\", \"act\", \" App\", \"\\\",\", \"\\\\newline\", \"  \", \"\\\"\", \"name\", \"\\\":\", \" \\\"\", \"Create\", \" React\", \" App\", \" Sample\", \"\\\",\", \"\\\\newline\", \"  \", \"\\\"\", \"icons\", \"\\\":\", \" [\", \"\\\\newline\", \"    \", \"{\", \"\\\\newline\", \"\\n\", \"\\\\newline\", \"class\", \" NS\", \"Array\", \" :\", \" NS\", \"Object\", \",\", \" N\", \"SC\", \"opy\", \"ing\", \",\", \" NS\", \"Mutable\", \"Copy\", \"ing\", \",\", \" N\", \"SS\", \"ec\", \"ure\", \"C\", \"oding\", \",\", \" NS\", \"Fast\", \"Enum\", \"eration\", \" {\", \"\\\\newline\", \"  \", \"var\", \" count\", \":\", \" Int\", \" {\", \" get\", \" }\", \"\\\\newline\", \"\\n\", \"ST\", \"T\", \" in\", \"\\n\"], \"activations\": [[[0.0]], [[0.0]], [[0.0]], [[0.0]], [[0.0]], [[0.0]], [[0.0]], [[1.1770975589752197]], [[0.0]], [[0.0]], [[2.508925676345825]], [[0.0]], [[0.0]], [[1.6255452632904053]], [[0.0]], [[0.0]], [[0.0]], [[0.0]], [[0.0]], [[0.0]], [[0.0]], [[0.0]], [[0.0]], [[0.0]], [[0.0]], [[0.0]], [[0.0]], [[0.0]], [[0.0]], [[0.0]], [[0.0]], [[0.16362500190734863]], [[4.095900535583496]], [[0.4425780773162842]], [[0.0]], [[0.0]], [[0.0]], [[0.0]], [[0.6995880603790283]], [[5.163179397583008]], [[0.0]], [[0.0]], [[0.0]], [[0.0]], [[0.0]], [[0.8348472118377686]], [[0.0]], [[0.0]], [[0.0]], [[0.0]], [[0.0]], [[0.0]], [[0.0]], [[0.0]], [[0.0]], [[0.0]], [[3.817919969558716]], [[0.0]], [[0.0]], [[0.0]], [[0.0]], [[0.0]], [[0.0]], [[0.0]], [[0.0]], [[0.0]], [[0.0]], [[0.0]], [[0.0]], [[0.650658130645752]], [[4.463951110839844]], [[0.0]], [[0.0]], [[0.0]], [[0.0]], [[0.0]], [[0.0]], [[0.0]], [[0.0]], [[0.0]], [[0.0]], [[0.0]], [[0.0]], [[0.0]], [[0.0]], [[0.0]], [[0.0]], [[0.0]], [[0.6323292255401611]], [[0.0]], [[0.0]], [[0.0]], [[0.0]], [[0.0]], [[0.0]], [[0.0]], [[0.0]], [[0.0]], [[0.0]], [[0.0]], [[0.0]], [[0.0]], [[0.0]], [[0.0]], [[0.0]], [[0.0]], [[0.0]], [[0.0]], [[3.734600305557251]], [[0.0]], [[0.0]], [[0.0]], [[0.0]], [[0.0]], [[0.0]], [[0.0]], [[0.0]], [[0.0]], [[0.7869348526000977]], [[0.03928089141845703]], [[0.0]], [[1.1968586444854736]], [[0.0]], [[0.0]], [[0.0]], [[0.0]], [[0.0]], [[0.0]], [[0.0]], [[0.0]], [[0.0]], [[3.2219631671905518]], [[0.0]], [[0.0]], [[0.0]], [[0.0]], [[0.0]], [[0.0]], [[0.0]], [[0.0]], [[0.0]], [[0.0]], [[0.0]], [[0.0]], [[0.0]], [[0.0]], [[0.0]], [[0.0]], [[0.0]], [[2.221534013748169]], [[0.0]], [[0.0]], [[0.0]], [[0.0]], [[0.0]], [[0.0]], [[2.4794857501983643]], [[0.0]], [[0.0]], [[0.0]], [[0.0]], [[0.0]], [[0.0]], [[0.0]], [[0.0]], [[0.0]], [[0.0]], [[2.693341016769409]], [[0.0]], [[0.0]], [[0.0]], [[0.0]], [[0.0]], [[0.0]], [[0.0]], [[0.0]], [[0.0]], [[0.0]], [[0.0]], [[0.0]], [[1.9943358898162842]], [[0.0]], [[0.0]], [[0.0]], [[0.0]], [[2.1245758533477783]], [[0.0]], [[0.0]], [[0.0]], [[0.0]], [[0.0]], [[0.0]], [[0.0]], [[0.0]], [[0.0]], [[0.0]], [[0.0]], [[0.0]], [[0.0]], [[0.0]], [[0.0]], [[0.0]], [[2.2766945362091064]], [[0.6495048999786377]], [[0.0]], [[0.0]], [[0.0]], [[0.0]], [[0.6056821346282959]], [[0.0]], [[0.0]], [[0.0]], [[0.0]], [[0.0]], [[4.999154090881348]], [[0.0]], [[0.0]], [[0.0]], [[0.0]], [[4.153162002563477]], [[0.0]], [[0.0]], [[0.0]], [[0.0]], [[1.9958579540252686]], [[0.0]], [[0.0]], [[0.0]], [[0.0]], [[0.0]], [[0.0]], [[0.0]], [[0.0]], [[0.0]], [[0.0]], [[0.0]], [[0.0]], [[0.0]], [[0.0]], [[0.0]], [[0.0]], [[0.0]], [[0.0]], [[0.0]], [[0.0]], [[0.0]], [[0.0]], [[0.0]], [[0.0]], [[0.0]], [[0.0]], [[0.0]], [[0.0]], [[1.244323968887329]], [[0.0]], [[0.0]], [[0.9906680583953857]], [[0.0]], [[0.0]], [[0.0]], [[0.0]], [[1.5030481815338135]], [[0.0]], [[0.0]], [[0.0]], [[0.0]], [[0.0]], [[0.0]], [[0.0]], [[0.0]], [[0.0]], [[0.0]], [[0.0]], [[0.0]], [[0.0]], [[0.0]], [[1.8406946659088135]], [[0.1277759075164795]], [[0.0]], [[0.0]], [[0.0]], [[0.0]], [[0.0]], [[0.0]], [[0.0]], [[0.0]], [[0.0]], [[2.9778892993927]], [[0.0]], [[0.0]], [[0.0]], [[0.0]], [[0.0]], [[0.37973880767822266]], [[0.0]], [[0.0]], [[0.9717841148376465]], [[0.0]], [[0.0]], [[0.0]], [[0.0]], [[0.0]], [[0.0]], [[0.0]], [[0.0]], [[0.0]], [[0.0]], [[0.0]], [[0.0]], [[0.0]], [[0.0]], [[0.0]], [[0.0]], [[0.0]], [[0.0]], [[0.0]], [[0.0]], [[0.0]], [[0.0]], [[0.0]], [[0.0]], [[0.0]], [[0.0]], [[0.0]], [[0.0]], [[0.0]], [[0.0]], [[0.0]], [[0.0]], [[0.0]], [[0.0]], [[0.0]], [[0.0]], [[0.0]], [[0.0]], [[0.0]], [[0.0]], [[0.17910552024841309]], [[0.0]], [[0.0]], [[0.0]], [[0.0]], [[0.0]]], \"firstDimensionName\": \"Layer\", \"secondDimensionName\": \"Neuron\"}\n",
       "    )\n",
       "    </script>"
      ],
      "text/plain": [
       "<circuitsvis.utils.render.RenderedHTML at 0x7fa23f570280>"
      ]
     },
     "execution_count": 197,
     "metadata": {},
     "output_type": "execute_result"
    }
   ],
   "source": [
    "# N = 106 # 106\n",
    "# N = 116 # 106\n",
    "# best_feature = int(max_indices[N])\n",
    "best_feature = 1814  #array([ 333, 2126, 2933,  156,  820, 2652,  911,  307, 2004,  169])\n",
    "best_feature = 69  #(array([ 333, 2004,  553, 1770, 2126, 1878, 1296,   97, 1094,   69]),\n",
    "# best_feature = 11 # Change this one for global index (N is sorted by MCS)\n",
    "# best_feature =  699 # 1841, 1034, 1359, 1987,  795, 578, 1501, 1603, 1448, 699\n",
    "# best_feature =  776 # 1841, 1034, 1987, 1448, 776, 1319, 1217, 1603, 1594, 1500\n",
    "N_ind = 6\n",
    "best_feature = int(sorted_indices[N_ind])\n",
    "print(most_common_tokens_count[sorted_indices][N_ind])\n",
    "print(f\"Feature index: {best_feature}\")\n",
    "print(f\"MCS: {max_cosine_similarities[best_feature]}\")\n",
    "text_list, full_text, token_list, full_token_list = get_feature_datapoints(best_feature, dictionary_activations, dataset, setting=\"uniform\")\n",
    "# text_list, full_text, token_list, full_token_list = get_feature_datapoints(best_feature, dictionary_activations, dataset, setting=\"max\")\n",
    "visualize_text(text_list, best_feature, model)"
   ]
  },
  {
   "cell_type": "code",
   "execution_count": null,
   "metadata": {},
   "outputs": [],
   "source": [
    "sorted_indices[N_ind]"
   ]
  },
  {
   "cell_type": "code",
   "execution_count": 11,
   "metadata": {},
   "outputs": [
    {
     "data": {
      "text/html": [
       "<div id=\"circuits-vis-e956df21-643d\" style=\"margin: 15px 0;\"/>\n",
       "    <script crossorigin type=\"module\">\n",
       "    import { render, TextNeuronActivations } from \"https://unpkg.com/circuitsvis@1.40.1/dist/cdn/esm.js\";\n",
       "    render(\n",
       "      \"circuits-vis-e956df21-643d\",\n",
       "      TextNeuronActivations,\n",
       "      {\"tokens\": [\"00\", \"\\\\newline\", \"Let\", \" z\", \" =\", \" -\", \"95\", \"874\", \".\", \"9\", \"\\n\", \"Left\", \"-\", \"hand\", \"er\", \" Wade\", \" M\", \"iley\", \" said\", \" he\", \" is\", \" well\", \" aware\", \" of\", \" the\", \" ang\", \"st\", \" among\", \" Milwaukee\", \" Brew\", \"ers\", \" fans\", \" over\", \" the\", \" great\", \" season\", \" (\", \"13\", \"-\", \"4\", \",\", \" 3\", \".\", \"06\", \"\\n\", \"M\", \"14\", \"\\\\newline\", \"\\\\newline\", \"The\", \" M\", \"14\", \" rifle\", \",\", \" formally\", \" the\", \" United\", \" States\", \" R\", \"ifle\", \",\", \" 7\", \".\", \"62\", \" mm\", \",\", \" M\", \"14\", \",\", \" is\", \" an\", \" American\", \" selective\", \" fire\", \" automatic\", \" rifle\", \" firing\", \" 7\", \".\", \"62\", \"\\n\", \"DET\", \"RO\", \"IT\", \" (\", \"AP\", \")\", \" \\u2014\", \" Plans\", \" are\", \" moving\", \" forward\", \" on\", \" $\", \"4\", \".\", \"9\", \"\\n\", \"Q\", \":\", \"\\\\newline\", \"\\\\newline\", \"Sh\", \"iro\", \" creates\", \" a\", \" new\", \" session\", \" for\", \" every\", \" get\", \"Session\", \"()\", \"\\\\newline\", \"\\\\newline\", \"I\", \"'m\", \" using\", \" sh\", \"iro\", \" (\", \"1\", \".\", \"2\", \"\\n\", \"Image\", \" taken\", \" on\", \" 2011\", \" Oct\", \".\", \" 01\", \".\", \"49\", \"\\n\", \"%\", \"Y\", \"AML\", \" 1\", \".\", \"1\", \"\\n\", \"Q\", \":\", \"\\\\newline\", \"\\\\newline\", \"Tom\", \"cat\", \" &\", \" Eclipse\", \" integration\", \"\\\\newline\", \"\\\\newline\", \"I\", \"'m\", \" developing\", \" on\", \" a\", \" Ubuntu\", \" 8\", \".\", \"04\", \" machine\", \" using\", \" Eclipse\", \" Gan\", \"ym\", \"ede\", \".\", \" I\", \" installed\", \" Tom\", \"cat\", \" 5\", \".\", \"5\", \"\\n\", \"AR\", \"MED\", \" SERVICES\", \" BO\", \"ARD\", \" OF\", \" CONTRACT\", \" APPEALS\", \"\\\\newline\", \"\\\\newline\", \"Appeal\", \" of\", \" --\", \"\\\\newline\", \"\\\\newline\", \")\", \"\\\\newline\", \"\\\\newline\", \")\", \"\\\\newline\", \"_\", \" )\", \" AS\", \"BC\", \"A\", \" N\", \"\\u00b0\", \"'\", \" 6\", \"03\", \"15\", \"\\n\", \"Em\", \"ily\", \" Hy\", \"den\", \"\\\\newline\", \"\\\\newline\", \"customer\", \"help\", \"number\", \"\\\\newline\", \"\\\\newline\", \"Techn\", \"icians\", \"\\\\newline\", \"\\\\newline\", \"E\", \"pson\", \" Pr\", \"inter\", \" Hel\", \"pl\", \"ine\", \" Number\", \" +\", \"1\", \"-\", \"866\", \"-\", \"5\", \"69\", \"-\", \"80\", \"\\n\", \"E\", \"-\", \"select\", \"in\", \",\", \" which\", \" has\", \" also\", \" been\", \" called\", \" EL\", \"AM\", \"-\", \"1\", \" for\", \" endothelial\", \" leukocyte\", \" adhesion\", \"\\n\"], \"activations\": [[[-0.04143381118774414]], [[-0.5439062118530273]], [[-0.2631688117980957]], [[0.008869171142578125]], [[-0.20833873748779297]], [[-0.08298969268798828]], [[-0.3116483688354492]], [[-0.02424478530883789]], [[-3.3165526390075684]], [[-3.7173070907592773]], [[0.0]], [[-0.010613441467285156]], [[0.04634714126586914]], [[-0.00154876708984375]], [[-0.013754844665527344]], [[0.03758716583251953]], [[0.006913661956787109]], [[0.04640340805053711]], [[0.04622936248779297]], [[0.052781105041503906]], [[-0.048010826110839844]], [[-0.012128353118896484]], [[-0.04908180236816406]], [[0.05811500549316406]], [[-0.03090667724609375]], [[-0.03816509246826172]], [[-0.007758140563964844]], [[-0.049628257751464844]], [[0.06704378128051758]], [[-0.020730972290039062]], [[0.039093971252441406]], [[0.08411216735839844]], [[0.03506183624267578]], [[-0.031768798828125]], [[0.1613607406616211]], [[-0.01490020751953125]], [[-0.23710966110229492]], [[-0.08842277526855469]], [[-0.09304046630859375]], [[-0.09932231903076172]], [[-0.19771099090576172]], [[-2.091702699661255]], [[-3.007761240005493]], [[-3.1504087448120117]], [[0.0]], [[-0.005645275115966797]], [[-0.031717777252197266]], [[-0.01422119140625]], [[-0.01422119140625]], [[0.030126571655273438]], [[0.007982254028320312]], [[-0.009442806243896484]], [[-0.23361873626708984]], [[0.021732330322265625]], [[0.10029029846191406]], [[0.07494926452636719]], [[-0.017696380615234375]], [[0.01140737533569336]], [[-0.03249073028564453]], [[0.11278629302978516]], [[-0.01525115966796875]], [[0.22322368621826172]], [[-0.027305126190185547]], [[0.19040489196777344]], [[-0.5966429710388184]], [[0.03870677947998047]], [[0.019042015075683594]], [[-0.019810199737548828]], [[0.069183349609375]], [[0.009685516357421875]], [[0.10237598419189453]], [[-0.019252300262451172]], [[0.024102210998535156]], [[0.02645397186279297]], [[0.08648109436035156]], [[-0.013161659240722656]], [[-0.4855070114135742]], [[-2.0789527893066406]], [[-3.00567626953125]], [[-3.00567626953125]], [[0.0]], [[-0.07305526733398438]], [[-0.08307409286499023]], [[0.03682231903076172]], [[-0.031495094299316406]], [[-0.10362100601196289]], [[0.12147283554077148]], [[0.03533315658569336]], [[0.13994455337524414]], [[0.04940652847290039]], [[0.11572837829589844]], [[0.09251070022583008]], [[0.36478710174560547]], [[0.40036964416503906]], [[-0.7325611114501953]], [[-2.3663902282714844]], [[-2.3663902282714844]], [[0.0]], [[0.0967254638671875]], [[0.10603141784667969]], [[-0.03884124755859375]], [[-0.03884124755859375]], [[-0.0471348762512207]], [[-0.09984588623046875]], [[0.12264156341552734]], [[0.0081939697265625]], [[-0.06299257278442383]], [[-0.06291484832763672]], [[-0.005295753479003906]], [[0.025794029235839844]], [[0.029279708862304688]], [[0.154754638671875]], [[-0.009370803833007812]], [[-0.052628517150878906]], [[-0.052628517150878906]], [[-0.012668132781982422]], [[-0.11183929443359375]], [[0.226593017578125]], [[-0.1104269027709961]], [[0.14080333709716797]], [[-1.555279016494751]], [[-1.9096565246582031]], [[-2.0068750381469727]], [[-2.0068750381469727]], [[0.0]], [[-0.27324533462524414]], [[0.05255746841430664]], [[-0.026124000549316406]], [[-0.038053035736083984]], [[0.9916067123413086]], [[-0.05164003372192383]], [[-1.4569427967071533]], [[-1.6834330558776855]], [[-1.6834330558776855]], [[0.0]], [[-0.29958319664001465]], [[-0.3273484706878662]], [[1.0419304370880127]], [[-0.9510877132415771]], [[-1.3490312099456787]], [[-1.3490312099456787]], [[0.0]], [[-0.05022263526916504]], [[0.04340815544128418]], [[-0.0006580352783203125]], [[-0.0006580352783203125]], [[-0.0011467933654785156]], [[0.029841899871826172]], [[-0.06355023384094238]], [[0.07587599754333496]], [[0.02125382423400879]], [[-0.03131699562072754]], [[-0.03131699562072754]], [[0.009557008743286133]], [[-0.04981875419616699]], [[-0.016577720642089844]], [[-0.021467924118041992]], [[-0.0006794929504394531]], [[0.0032279491424560547]], [[-0.021292448043823242]], [[-0.00011515617370605469]], [[-0.044849395751953125]], [[-0.03147268295288086]], [[0.043100833892822266]], [[0.044545650482177734]], [[-0.00034618377685546875]], [[-0.034331560134887695]], [[-0.03499150276184082]], [[-0.07863616943359375]], [[-0.08525562286376953]], [[-0.07001614570617676]], [[0.09401631355285645]], [[-0.005843639373779297]], [[-0.7416636943817139]], [[-0.8487899303436279]], [[-0.8487899303436279]], [[0.0]], [[-0.018445253372192383]], [[-0.017267465591430664]], [[-0.015206575393676758]], [[0.02969956398010254]], [[-0.04447340965270996]], [[0.06339192390441895]], [[-0.012026548385620117]], [[-0.15124082565307617]], [[-0.025586366653442383]], [[-0.025586366653442383]], [[-0.021655797958374023]], [[-6.580352783203125e-05]], [[-0.03095698356628418]], [[0.0022525787353515625]], [[0.0022525787353515625]], [[-0.04056239128112793]], [[0.00469207763671875]], [[0.00469207763671875]], [[-0.0629584789276123]], [[-0.08379626274108887]], [[-0.024063587188720703]], [[-0.04899191856384277]], [[0.08778834342956543]], [[-0.019034147262573242]], [[-0.016092538833618164]], [[0.2869398593902588]], [[-0.3113853931427002]], [[-0.4851219654083252]], [[-0.26772284507751465]], [[-0.5674068927764893]], [[-0.5674068927764893]], [[0.0]], [[-0.008289813995361328]], [[-0.038274526596069336]], [[0.02254486083984375]], [[0.01449131965637207]], [[0.026874780654907227]], [[0.026874780654907227]], [[0.0018582344055175781]], [[0.0005822181701660156]], [[-0.01822376251220703]], [[-0.0029115676879882812]], [[-0.0029115676879882812]], [[-0.033830881118774414]], [[-0.014152050018310547]], [[-0.008936882019042969]], [[-0.008936882019042969]], [[-0.07309293746948242]], [[-0.04713296890258789]], [[-0.04029583930969238]], [[-0.026985645294189453]], [[-0.026491880416870117]], [[-0.04295206069946289]], [[-0.03783082962036133]], [[0.019449710845947266]], [[-0.07309293746948242]], [[0.11765909194946289]], [[0.045394182205200195]], [[0.010313749313354492]], [[-0.07309293746948242]], [[0.12556838989257812]], [[0.17006230354309082]], [[-0.07309293746948242]], [[-0.07309293746948242]], [[0.0]], [[0.0]], [[0.0]], [[0.0]], [[0.0]], [[0.0]], [[0.0]], [[0.0]], [[0.0]], [[0.0]], [[0.0]], [[0.0]], [[0.0]], [[0.0]], [[0.0]], [[0.0]], [[0.0]], [[0.0]], [[0.0]], [[0.0]]], \"firstDimensionName\": \"Layer\", \"secondDimensionName\": \"Neuron\"}\n",
       "    )\n",
       "    </script>"
      ],
      "text/plain": [
       "<circuitsvis.utils.render.RenderedHTML at 0x7fec771d35e0>"
      ]
     },
     "execution_count": 11,
     "metadata": {},
     "output_type": "execute_result"
    }
   ],
   "source": [
    "ablate_text(text_list, best_feature, model)"
   ]
  },
  {
   "cell_type": "code",
   "execution_count": 15,
   "metadata": {},
   "outputs": [
    {
     "data": {
      "image/png": "[encoded data removed]",
      "text/plain": [
       "<Figure size 300x600 with 3 Axes>"
      ]
     },
     "metadata": {},
     "output_type": "display_data"
    }
   ],
   "source": [
    "custom_text = [\n",
    "    \" 3.2/1.6\",\n",
    "    \" 5.6.1.53.2\",\n",
    "    \" This is KZ 96.5\"\n",
    "]\n",
    "# visualize_text(custom_text, best_feature, model)\n",
    "act_list, text_display_list = visualize_text(custom_text, best_feature, model, return_activations=True)\n",
    "ablated_act_list, _ = ablate_text(custom_text, best_feature, model, return_activations=True)\n",
    "act_list = act_list.squeeze().squeeze()\n",
    "ablated_act_list = ablated_act_list.squeeze().squeeze()\n",
    "# Find indices of \"\\n\" in text_list\n",
    "split_indices = [i for i, text in enumerate(text_display_list) if text == \"\\n\"]\n",
    "\n",
    "# Split text_list based on indices of \"\\n\"\n",
    "split_text_lists = [text_display_list[i:j] for i, j in zip([0]+[idx+1 for idx in split_indices], split_indices+[None])][:-1]\n",
    "\n",
    "# Similarly, split act_list. Since there's a one-to-one correspondence between text_list and act_list\n",
    "split_act_lists = [act_list[i:j] for i, j in zip([0]+[idx+1 for idx in split_indices], split_indices+[None])][:-1]\n",
    "\n",
    "split_ablated_act_lists = [ablated_act_list[i:j] for i, j in zip([0]+[idx+1 for idx in split_indices], split_indices+[None])][:-1]\n",
    "\n",
    "#Save split_text/act/ablated\n",
    "import pickle\n",
    "with open(f\"images/feature_activation_and_ablated_{best_feature}.pkl\", \"wb\") as f:\n",
    "    pickle.dump((split_text_lists, split_act_lists, split_ablated_act_lists), f)\n",
    "import matplotlib.pyplot as plt\n",
    "invisible_char = '\\u200B'\n",
    "\n",
    "nrows = len(split_text_lists)\n",
    "fig, axes = plt.subplots(nrows=nrows, figsize=(3, 2*nrows))\n",
    "# Iterate through both split lists and plot them\n",
    "for text_ind in range(nrows):\n",
    "# for text_seq, act_seq in zip(split_text_lists, split_act_lists):\n",
    "    ax = axes[text_ind]\n",
    "    text_seq = split_text_lists[text_ind]\n",
    "    act_seq = split_act_lists[text_ind]\n",
    "    # ablated_act_seq = split_ablated_act_lists[text_ind]\n",
    "    # Modify the text_seq to add the invisible character\n",
    "    modified_text_seq = [text + invisible_char*i for i, text in enumerate(text_seq)]\n",
    "    # plt.figure(figsize=(3, 3))  # Create a new figure for each text sequence\n",
    "    # Color is blue and labeled \"activation\"\n",
    "    ax.plot(modified_text_seq, act_seq, color='b', label='Feature Activation')\n",
    "    # ax.plot(modified_text_seq, ablated_act_seq, color='r', label='Ablated Activation-diff of last token')\n",
    "    ax.legend()  # Show the legend\n",
    "    ax.set_xlabel(\"Text Tokens\")\n",
    "    ax.set_ylabel(\"Activations\")\n",
    "\n",
    "# Adjust layout for better display\n",
    "plt.tight_layout()\n",
    "plt.subplots_adjust(right=0.85) \n",
    "plt.show()"
   ]
  },
  {
   "cell_type": "code",
   "execution_count": 13,
   "metadata": {},
   "outputs": [
    {
     "data": {
      "image/png": "[encoded data removed]",
      "text/plain": [
       "<Figure size 300x600 with 3 Axes>"
      ]
     },
     "metadata": {},
     "output_type": "display_data"
    }
   ],
   "source": [
    "nrows = len(split_text_lists)\n",
    "fig, axes = plt.subplots(nrows=nrows, figsize=(3, 2*nrows))\n",
    "last_token_activation = [act_list[-1] for act_list in split_act_lists]\n",
    "for text_ind in range(nrows):\n",
    "# for text_seq, act_seq in zip(split_text_lists, split_act_lists):\n",
    "    ax = axes[text_ind]\n",
    "    text_seq = split_text_lists[text_ind]\n",
    "    ablated_act_seq = split_ablated_act_lists[text_ind]\n",
    "    # Modify the text_seq to add the invisible character\n",
    "    modified_text_seq = [text + invisible_char*i for i, text in enumerate(text_seq)]\n",
    "    last_token_act = last_token_activation[text_ind] \n",
    "    ablated_act_seq += last_token_act\n",
    "    ax.plot(modified_text_seq, ablated_act_seq, color='r', label='Ablated Activation-diff of last token')\n",
    "\n",
    "    # Plot a blue, dotted line to show the activation of the last token\n",
    "    # ax.plot(modified_text_seq, [0, last_token_act], color='b', linestyle='--', label='Activation of last token')\n",
    "    ax.plot(modified_text_seq, [last_token_act]*len(modified_text_seq), color='b', linestyle='--', label='Activation of last token')\n",
    "    ax.legend()  # Show the legend\n",
    "    ax.set_xlabel(\"Text Tokens\")\n",
    "    ax.set_ylabel(\"Activations\")\n",
    "\n",
    "# Adjust layout for better display\n",
    "plt.tight_layout()\n",
    "plt.subplots_adjust(right=0.85) \n",
    "plt.show()"
   ]
  },
  {
   "cell_type": "code",
   "execution_count": 169,
   "metadata": {},
   "outputs": [],
   "source": [
    "plt.show()"
   ]
  },
  {
   "cell_type": "code",
   "execution_count": 57,
   "metadata": {},
   "outputs": [
    {
     "data": {
      "text/html": [
       "<div id=\"circuits-vis-b322e153-3eb3\" style=\"margin: 15px 0;\"/>\n",
       "    <script crossorigin type=\"module\">\n",
       "    import { render, TextNeuronActivations } from \"https://unpkg.com/circuitsvis@1.40.1/dist/cdn/esm.js\";\n",
       "    render(\n",
       "      \"circuits-vis-b322e153-3eb3\",\n",
       "      TextNeuronActivations,\n",
       "      {\"tokens\": [\"antis\", \" Rail\", \" Summer\", \" 2013\", \" Photo\", \" Contest\", \" W\", \"inners\", \"!\", \"\\\\newline\", \"\\\\newline\", \"We\", \" have\", \" our\", \" winners\", \" for\", \" the\", \" Atl\", \"antis\", \" Rail\", \" Summer\", \" 2013\", \" Photo\", \" Contest\", \"!\", \" Click\", \" on\", \" any\", \" photo\", \" to\", \" enlarge\", \".\", \" The\", \" next\", \" contest\", \" has\", \" already\", \" begun\", \",\", \"\\n\", \":\", \"\\\\newline\", \"\\\\newline\", \"Can\", \"'t\", \" exclude\", \" directory\", \" names\", \" with\", \" c\", \"w\", \"-\", \"rs\", \"ync\", \"\\\\newline\", \"\\\\newline\", \"I\", \"'m\", \" using\", \" c\", \"w\", \"-\", \"rs\", \"ync\", \" under\", \" Windows\", \" 7\", \" to\", \" copy\", \" files\", \" off\", \" my\", \" local\", \" machine\", \" every\", \" day\", \" to\", \" an\", \" rs\", \"\\n\", \"import\", \" src\", \"=\\\"../../../\", \"common\", \"/\", \"head\", \".\", \"w\", \"xml\", \"\\\"/>\", \"\\\\newline\", \"<\", \"import\", \" src\", \"=\\\"../../../\", \"common\", \"/\", \"foot\", \".\", \"w\", \"xml\", \"\\\"/>\", \"\\\\newline\", \"\\\\newline\", \"<\", \"view\", \" class\", \"=\\\"\", \"container\", \"\\\">\", \"\\\\newline\", \"  \", \"<\", \"template\", \" is\", \"=\\\"\", \"head\", \"\\\"\", \" data\", \"\\n\", \"\\\\newline\", \"abstract\", \":\", \" '\", \"Dark\", \" Matter\", \" detectors\", \" with\", \" directional\", \" sensitivity\", \" have\", \" the\", \" potential\", \" of\", \" yielding\", \" an\", \" unambiguous\", \" positive\", \" observation\", \" of\", \" W\", \"IM\", \"Ps\", \" as\", \" well\", \" as\", \" discrim\", \"inating\", \" between\", \" galactic\", \" Dark\", \" Matter\", \" halo\", \" models\", \".\", \" In\", \" this\", \" article\", \",\", \"\\n\", \"\\ufffd\", \"ag\", \"iew\", \"n\", \"iki\", \",\", \" W\", \"\\u0142\", \"oc\", \"\\u0142a\", \"we\", \"k\", \" County\", \"\\\\newline\", \"\\\\newline\", \"\\ufffd\", \"\\ufffd\", \"ag\", \"iew\", \"n\", \"iki\", \"  \", \"()\", \" is\", \" a\", \" village\", \" in\", \" the\", \" administrative\", \" district\", \" of\", \" G\", \"mina\", \" W\", \"\\u0142\", \"oc\", \"\\u0142a\", \"we\", \"k\", \"\\n\", \":\", \"\\\\newline\", \"\\\\newline\", \"Show\", \" $\", \"f\", \"(\", \"w\", \")=\\\\\", \"frac\", \"{\", \"1\", \"}{\", \"2\", \"\\\\\", \"pi\", \" i\", \"}\\\\\", \"int\", \"_{\\\\\", \"partial\", \" \\\\\", \"Omega\", \"}\", \" f\", \"(\", \"z\", \")\\\\\", \"frac\", \"{\", \"g\", \"'(\", \"z\", \")}{\", \"g\", \"(\", \"z\", \")-\", \"g\", \"\\n\", \":\", \"\\\\newline\", \"\\\\newline\", \"w\", \"mi\", \" accelerator\", \" and\", \" authentication\", \"\\\\newline\", \"\\\\newline\", \"It\", \" seems\", \" I\", \" can\", \" not\", \" find\", \" clearly\", \" written\", \" somewhere\", \" that\", \" when\", \" using\", \" W\", \"MI\", \" accelerator\", \" in\", \" a\", \" Power\", \"Shell\", \" script\", \",\", \" you\", \" can\", \" not\", \" pass\", \" on\", \" authentication\", \".\", \"\\\\newline\", \"\\n\", \"God\", \" comes\", \" to\", \" us\", \" in\", \" a\", \" thousand\", \" different\", \" forms\", \",\", \" each\", \" one\", \" perfectly\", \" adapted\", \" to\", \" the\", \" individual\", \".\\\"\", \"\\\\newline\", \"\\\\newline\", \"3\", \"\\\\newline\", \"\\\\newline\", \"\\\"\", \"W\", \"oud\", \"st\", \" thou\", \" know\", \" my\", \" meaning\", \"?\", \" Lie\", \" down\", \" in\", \" the\", \" Fire\", \"\\u2026.\", \"See\", \"\\n\", \" House\", \" Petition\", \"s\", \"\\\\newline\", \"\\\\newline\", \"\\ufffd\", \"\\ufffd\", \" \\u0394\", \" \\ufffd\", \"\\ufffd\", \" Graph\", \"Name\", \" Ch\", \"or\", \"ople\", \"th\", \" of\", \" Petition\", \" Sign\", \"ers\", \" Dark\", \"er\", \" counties\", \" indicate\", \" more\", \" sign\", \"ers\", \" per\", \" capita\", \"\\\\newline\", \"\\\\newline\", \"Total\", \" Sign\", \"atures\", \" Petition\", \"s\", \" with\", \" more\", \" than\", \"\\n\", \":\", \"\\\\newline\", \"\\\\newline\", \"VB\", \".\", \"net\", \" connection\", \" string\", \" to\", \" sql\", \" dat\", \"ab\", \"se\", \"\\\\newline\", \"\\\\newline\", \"After\", \" using\", \" the\", \" following\", \" code\", \",\", \" no\", \" errors\", \" are\", \" shown\", \",\", \" but\", \" my\", \" database\", \" is\", \" not\", \" updated\", \" once\", \" i\", \" have\", \" made\", \" a\", \" change\", \" using\", \"\\n\", \"\\\\newline\", \"\\\\newline\", \"SELECT\", \" How\", \"To\", \" FROM\", \" Write\", \"SQL\", \"Syntax\", \" Part\", \" 1\", \" :\", \" D\", \"ML\", \"\\\\newline\", \"\\\\newline\", \"In\", \" my\", \" years\", \" working\", \" in\", \" B\", \"PM\", \",\", \" SQL\", \" syntax\", \" has\", \" played\", \" a\", \" part\", \" in\", \" almost\", \" every\", \" pe\", \"ice\", \" of\", \" work\", \".\", \" The\", \"\\n\"], \"activations\": [[[0.0]], [[0.0]], [[0.0]], [[0.0]], [[0.0]], [[0.0]], [[-0.2559680938720703]], [[0.0008656978607177734]], [[0.0012922286987304688]], [[0.0006887912750244141]], [[0.0002466365694999695]], [[-0.0358128547668457]], [[-0.0008156299591064453]], [[0.010075092315673828]], [[-0.06351089477539062]], [[-0.0045282840728759766]], [[-0.006931662559509277]], [[0.4406414031982422]], [[-5.930662155151367e-06]], [[0.0314936637878418]], [[0.019366741180419922]], [[-0.00010156631469726562]], [[0.020152568817138672]], [[-0.00031300727277994156]], [[0.41707491874694824]], [[0.0317840576171875]], [[-0.006268501281738281]], [[0.0006132125854492188]], [[0.0525364875793457]], [[0.04456019401550293]], [[-0.008467674255371094]], [[-0.004446506500244141]], [[0.007494449615478516]], [[0.07459735870361328]], [[-0.01942729949951172]], [[0.037689208984375]], [[-0.05229759216308594]], [[0.0012140274047851562]], [[-0.007510662078857422]], [[0.0]], [[0.003142118453979492]], [[6.53490424156189e-05]], [[2.193450927734375e-05]], [[0.0002856254577636719]], [[0.000674128532409668]], [[-0.001178741455078125]], [[0.003238677978515625]], [[0.004412412643432617]], [[-0.0013074874877929688]], [[0.005190372467041016]], [[-0.000118255615234375]], [[-0.0029370784759521484]], [[0.24660301208496094]], [[-0.0009322166442871094]], [[-0.003981828689575195]], [[4.0531158447265625e-06]], [[-0.0002509951591491699]], [[3.0040740966796875e-05]], [[1.5497207641601562e-05]], [[0.006127834320068359]], [[-1.894770622253418]], [[-0.010423541069030762]], [[-1.7344951629638672e-05]], [[0.0]], [[9.5367431640625e-06]], [[-0.0026972293853759766]], [[-6.341934204101562e-05]], [[7.152557373046875e-07]], [[0.0005240440368652344]], [[0.00042510032653808594]], [[0.00033473968505859375]], [[-0.0009627342224121094]], [[-0.0008883476257324219]], [[-0.005276799201965332]], [[0.0012979507446289062]], [[0.0012629032135009766]], [[-0.00028896331787109375]], [[2.6702880859375e-05]], [[-7.152557373046875e-06]], [[0.0]], [[0.0]], [[0.0]], [[0.0]], [[0.0]], [[0.0]], [[0.0]], [[0.0]], [[0.0]], [[0.0]], [[0.0]], [[-5.945563316345215e-05]], [[0.0]], [[-0.023372650146484375]], [[0.019686222076416016]], [[1.1548399925231934e-07]], [[-1.2516975402832031e-06]], [[0.0]], [[0.1142282485961914]], [[-0.01259613037109375]], [[-2.382575035095215]], [[-0.05236496031284332]], [[0.03591811656951904]], [[4.531443119049072e-05]], [[4.76837158203125e-06]], [[-2.193450927734375e-05]], [[-3.814697265625e-06]], [[-3.5762786865234375e-07]], [[0.0011053457856178284]], [[0.23340654373168945]], [[-0.009829074144363403]], [[-0.008782938122749329]], [[-0.0005372762680053711]], [[-0.0005145296454429626]], [[2.7179718017578125e-05]], [[-0.000125885009765625]], [[0.011959671974182129]], [[0.0624079704284668]], [[2.384185791015625e-06]], [[-7.724761962890625e-05]], [[0.0]], [[0.0]], [[0.0]], [[0.0]], [[0.0]], [[-0.0030574798583984375]], [[-0.020069599151611328]], [[0.008257865905761719]], [[-0.0030541419982910156]], [[-0.012022018432617188]], [[-0.003032207489013672]], [[0.0018351078033447266]], [[9.5367431640625e-07]], [[-1.6689300537109375e-06]], [[0.0]], [[0.012425422668457031]], [[0.014272928237915039]], [[0.05324220657348633]], [[-0.012166976928710938]], [[-0.06961250305175781]], [[-0.0062236785888671875]], [[-0.8091082572937012]], [[0.008650779724121094]], [[0.0031757354736328125]], [[0.011312484741210938]], [[-0.01872396469116211]], [[6.078556180000305e-05]], [[0.05606269836425781]], [[0.0012019574642181396]], [[-0.06548619270324707]], [[0.197174072265625]], [[0.016610145568847656]], [[0.0010638833045959473]], [[-0.04105091094970703]], [[-0.015920639038085938]], [[-0.012114524841308594]], [[0.0009660720825195312]], [[0.001321554183959961]], [[-0.004945278167724609]], [[0.0027178525924682617]], [[0.0]], [[-0.007529020309448242]], [[0.00054931640625]], [[-0.1332263946533203]], [[-0.018488407135009766]], [[-0.026610374450683594]], [[0.017511844635009766]], [[-0.23926305770874023]], [[-0.0034689903259277344]], [[0.004551887512207031]], [[-0.33692264556884766]], [[-0.33289623260498047]], [[0.07138490676879883]], [[0.053483009338378906]], [[0.051859140396118164]], [[0.04194056987762451]], [[0.05908560752868652]], [[-0.000744381919503212]], [[0.0028406381607055664]], [[-0.7453296184539795]], [[-0.004852212965488434]], [[-0.0037256069481372833]], [[-0.02527761459350586]], [[-0.06398630142211914]], [[-0.04042065143585205]], [[0.0012668967247009277]], [[0.026416420936584473]], [[-0.017510950565338135]], [[-0.03543877601623535]], [[-0.08086276054382324]], [[0.001303941011428833]], [[-0.0001126420684158802]], [[-0.0015968084335327148]], [[-0.00028686411678791046]], [[-1.437605381011963]], [[-0.1084444522857666]], [[0.001603841781616211]], [[-0.15285730361938477]], [[-0.031988438218832016]], [[0.005298823118209839]], [[0.0]], [[0.003142118453979492]], [[-3.666430711746216e-05]], [[2.193450927734375e-05]], [[6.437301635742188e-05]], [[-0.006202220916748047]], [[0.0004515647888183594]], [[-0.0003916025161743164]], [[-0.011394023895263672]], [[0.000301361083984375]], [[-0.009566307067871094]], [[-0.015763074159622192]], [[0.19040387868881226]], [[-0.001538395881652832]], [[0.16682511568069458]], [[0.037157297134399414]], [[0.0009334683418273926]], [[0.17934489250183105]], [[0.052103400230407715]], [[-0.01450800895690918]], [[0.01665496826171875]], [[0.0017848014831542969]], [[0.018081188201904297]], [[0.0027167201042175293]], [[-0.00239013135433197]], [[0.20733189582824707]], [[-0.009861856698989868]], [[1.3329391479492188]], [[0.14081716537475586]], [[-0.007466793060302734]], [[-0.017706096172332764]], [[0.3576040267944336]], [[-0.013165473937988281]], [[0.37835443019866943]], [[-0.016979485750198364]], [[0.1755504608154297]], [[0.013636350631713867]], [[0.027182571589946747]], [[0.01733875274658203]], [[0.007365524768829346]], [[0.0]], [[0.003142118453979492]], [[4.924088716506958e-05]], [[2.193450927734375e-05]], [[-0.004423618316650391]], [[0.000244140625]], [[0.0009098052978515625]], [[-0.002043485641479492]], [[-0.01652812957763672]], [[0.007402658462524414]], [[0.004725635051727295]], [[0.017316341400146484]], [[0.02036726474761963]], [[-0.009678840637207031]], [[0.023951053619384766]], [[-0.011997699737548828]], [[0.007153749465942383]], [[-0.13504791259765625]], [[-0.052669525146484375]], [[0.11590862274169922]], [[0.010453939437866211]], [[0.05858421325683594]], [[0.012148380279541016]], [[-2.6631762981414795]], [[-0.08532822132110596]], [[0.11101484298706055]], [[0.09860658645629883]], [[0.011831521987915039]], [[-0.34021949768066406]], [[-0.022482573986053467]], [[0.030818462371826172]], [[-0.004352927207946777]], [[0.15093517303466797]], [[0.03129976987838745]], [[-0.004055976867675781]], [[0.0014195442199707031]], [[0.09966039657592773]], [[-0.17314434051513672]], [[-0.15043306350708008]], [[-0.03971421718597412]], [[0.0]], [[0.0]], [[-0.0021371841430664062]], [[-0.0003783702850341797]], [[-0.00017547607421875]], [[0.0]], [[0.0003066062927246094]], [[0.0]], [[0.0]], [[0.0]], [[-0.00018393993377685547]], [[-0.0002446174621582031]], [[4.9591064453125e-05]], [[0.003968238830566406]], [[0.0]], [[-0.00011181831359863281]], [[-0.0005238056182861328]], [[0.000446319580078125]], [[0.0]], [[0.0]], [[0.0]], [[-0.0008602142333984375]], [[0.0]], [[1.633167266845703e-05]], [[-0.0006489753723144531]], [[-0.06559181213378906]], [[0.0]], [[0.0]], [[-0.009023666381835938]], [[0.0023741722106933594]], [[-0.007012367248535156]], [[-0.009678363800048828]], [[-0.0022537708282470703]], [[0.12452983856201172]], [[-0.0018627643585205078]], [[-0.007010221481323242]], [[-0.00962209701538086]], [[-0.0001735687255859375]], [[0.03171253204345703]], [[-0.06373739242553711]], [[0.0]], [[0.0751962661743164]], [[-0.08139419555664062]], [[0.007344484329223633]], [[0.0009083747863769531]], [[0.011243939399719238]], [[0.00018405914306640625]], [[0.0006213188171386719]], [[0.004948616027832031]], [[0.0005350112915039062]], [[-0.001027822494506836]], [[-0.00103759765625]], [[0.0016841888427734375]], [[-0.0044269561767578125]], [[0.0012717247009277344]], [[-0.004504203796386719]], [[-0.0005636215209960938]], [[0.0005540847778320312]], [[-0.011311531066894531]], [[-0.0008802413940429688]], [[0.005924224853515625]], [[-0.0010128021240234375]], [[0.03466653823852539]], [[-0.004921913146972656]], [[0.0019407272338867188]], [[-0.0006380081176757812]], [[0.04297065734863281]], [[8.594989776611328e-05]], [[0.0737314224243164]], [[0.03517770767211914]], [[0.0012450218200683594]], [[0.00030684471130371094]], [[-0.0005955696105957031]], [[0.0324711799621582]], [[-0.0030164718627929688]], [[-0.018204689025878906]], [[0.0005623102188110352]], [[-0.0012793540954589844]], [[-0.01762676239013672]], [[0.0011410713195800781]], [[0.0]], [[0.003142118453979492]], [[0.00012049823999404907]], [[2.193450927734375e-05]], [[-0.00064849853515625]], [[-3.635883331298828e-05]], [[0.040981292724609375]], [[1.239776611328125e-05]], [[3.719329833984375e-05]], [[1.71661376953125e-05]], [[-3.337860107421875e-05]], [[-5.245208740234375e-06]], [[1.8596649169921875e-05]], [[4.7326087951660156e-05]], [[-4.220008850097656e-05]], [[1.0713934898376465e-05]], [[7.82012939453125e-05]], [[0.0005993843078613281]], [[0.0009018182754516602]], [[0.00031280517578125]], [[0.0006407499313354492]], [[9.644031524658203e-05]], [[-0.0002613067626953125]], [[0.00015115737915039062]], [[2.6226043701171875e-06]], [[-0.0002353191375732422]], [[-2.384185791015625e-06]], [[-1.0728836059570312e-06]], [[-1.0013580322265625e-05]], [[0.00010657310485839844]], [[6.92605972290039e-05]], [[6.985664367675781e-05]], [[3.6716461181640625e-05]], [[7.009506225585938e-05]], [[6.67572021484375e-06]], [[-1.3113021850585938e-05]], [[3.814697265625e-06]], [[2.7418136596679688e-06]], [[6.031990051269531e-05]], [[2.956390380859375e-05]], [[0.0]], [[0.0]], [[0.0]], [[0.0]], [[-2.47955322265625e-05]], [[3.9577484130859375e-05]], [[0.00019168853759765625]], [[-0.0002231597900390625]], [[-0.00027370452880859375]], [[-3.910064697265625e-05]], [[0.0]], [[6.270408630371094e-05]], [[-8.58306884765625e-06]], [[0.010053634643554688]], [[0.0033178329467773438]], [[0.0009591579437255859]], [[0.0016775131225585938]], [[0.0026674270629882812]], [[-7.152557373046875e-07]], [[1.9073486328125e-06]], [[8.106231689453125e-06]], [[-1.1920928955078125e-07]], [[0.0]], [[0.0]], [[-2.384185791015625e-07]], [[4.6253204345703125e-05]], [[-3.0994415283203125e-06]], [[-4.76837158203125e-07]], [[4.76837158203125e-07]], [[0.0]], [[0.0]], [[0.0]], [[-4.76837158203125e-07]], [[0.0]], [[0.0]], [[0.0]], [[0.0]], [[0.0]], [[0.0]], [[-4.76837158203125e-07]], [[0.0]]], \"firstDimensionName\": \"Layer\", \"secondDimensionName\": \"Neuron\"}\n",
       "    )\n",
       "    </script>"
      ],
      "text/plain": [
       "<circuitsvis.utils.render.RenderedHTML at 0x7f8a25d63b80>"
      ]
     },
     "execution_count": 57,
     "metadata": {},
     "output_type": "execute_result"
    }
   ],
   "source": [
    "ablate_feature_direction_display(full_text, best_feature)"
   ]
  },
  {
   "cell_type": "code",
   "execution_count": 65,
   "metadata": {},
   "outputs": [
    {
     "name": "stdout",
     "output_type": "stream",
     "text": [
      "[' ports', ' coff', ' manufact', ' quarters', ' revenues', ' commerce', ' revenue', ' =>', ' tires', ' appealed', ' quarter', ' nombre', ' addressed', 'ftware', ' parity', ' port', ' Rab', ' notwithstanding', ' tract', ' humour']\n",
      "tensor([1.0664, 1.0092, 0.8916, 0.8852, 0.8766, 0.8653, 0.8618, 0.8567, 0.8510,\n",
      "        0.8441, 0.8361, 0.8341, 0.8334, 0.8325, 0.8312, 0.8150, 0.8143, 0.8104,\n",
      "        0.8097, 0.8046])\n"
     ]
    }
   ],
   "source": [
    "logit_lens(model,best_feature, smaller_dict, layer)"
   ]
  },
  {
   "cell_type": "code",
   "execution_count": 139,
   "metadata": {},
   "outputs": [
    {
     "data": {
      "text/html": [
       "<div id=\"circuits-vis-5b8922f4-a80e\" style=\"margin: 15px 0;\"/>\n",
       "    <script crossorigin type=\"module\">\n",
       "    import { render, TextNeuronActivations } from \"https://unpkg.com/circuitsvis@1.40.1/dist/cdn/esm.js\";\n",
       "    render(\n",
       "      \"circuits-vis-5b8922f4-a80e\",\n",
       "      TextNeuronActivations,\n",
       "      {\"tokens\": [\" 3\", \".\", \"2\", \"/\", \"1\", \".\", \"6\", \"\\n\", \" Section\", \" 5\", \".\", \"6\", \".\", \"1\", \"\\n\", \" This\", \" is\", \" K\", \"Z\", \" 96\", \".\", \"5\", \"\\n\"], \"activations\": [[[0.0]], [[0.019358396530151367]], [[3.0731334686279297]], [[0.0]], [[0.4526691436767578]], [[0.0]], [[2.7240753173828125]], [[0.0]], [[0.0]], [[0.0]], [[0.0]], [[0.7350735664367676]], [[0.0]], [[0.9564352035522461]], [[0.0]], [[0.0]], [[0.0]], [[0.0]], [[0.0]], [[0.0]], [[0.0]], [[2.89431095123291]], [[0.0]]], \"firstDimensionName\": \"Layer\", \"secondDimensionName\": \"Neuron\"}\n",
       "    )\n",
       "    </script>"
      ],
      "text/plain": [
       "<circuitsvis.utils.render.RenderedHTML at 0x7f83e23b28f0>"
      ]
     },
     "execution_count": 139,
     "metadata": {},
     "output_type": "execute_result"
    }
   ],
   "source": [
    "custom_text = [\n",
    "    \" 3.2/1.6\",\n",
    "    \" Section 5.6.1\",\n",
    "    \" This is KZ 96.5\"\n",
    "]\n",
    "visualize_text(custom_text, best_feature, model)"
   ]
  },
  {
   "cell_type": "markdown",
   "metadata": {},
   "source": [
    "# Data Centric Viewpoint"
   ]
  },
  {
   "cell_type": "code",
   "execution_count": null,
   "metadata": {},
   "outputs": [],
   "source": [
    "# Go through datapoints & see if the features that activate on them make sense.\n",
    "d_point = 0\n",
    "# text = tokens_dataset[d_point]\n",
    "data_ind, sequence_pos = np.unravel_index(d_point, (datapoints, token_amount))\n",
    "feature_val, feature_ind = dictionary_activations[d_point].topk(10)\n",
    "data_ind = int(data_ind)\n",
    "sequence_pos = int(sequence_pos)\n",
    "full_tok = torch.tensor(dataset[data_ind][\"input_ids\"])\n",
    "full_text = []\n",
    "full_text.append(model.tokenizer.decode(full_tok))\n",
    "visualize_text(full_text, feature_ind, model)"
   ]
  },
  {
   "cell_type": "markdown",
   "metadata": {},
   "source": [
    "# Check the neuron/residual basis\n",
    "When we look at the weights of a feature, we are seeing the literal dimensions from the residual stream/neurons being read from the feature. \n",
    "\n",
    "Here I'm visualizing the weight values for the residual stream. If there are outliers, then it's mainly reading from that dimension."
   ]
  },
  {
   "cell_type": "code",
   "execution_count": null,
   "metadata": {},
   "outputs": [],
   "source": [
    "(weights*max_activation).topk(20), (weights*max_activation).topk(20, largest=False).values, (weights*max_activation > 0.2).sum()"
   ]
  },
  {
   "cell_type": "markdown",
   "metadata": {},
   "source": [
    "# Prepend/Append tokens\n",
    "We can iterate over all tokens to check which ones activate a feature a lot to more rigorously test a hypothesis on what a feature means.\n",
    "\n",
    "Note: I'm literately running the model through all 50k tokens prepended to the text here"
   ]
  },
  {
   "cell_type": "code",
   "execution_count": null,
   "metadata": {},
   "outputs": [],
   "source": [
    "def prepend_all_tokens_and_get_feature_activation(model, minimal_activating_example, feature, setting=\"prepend\"):\n",
    "    tokens = model.to_tokens(minimal_activating_example, prepend_bos=False)\n",
    "\n",
    "    # Run through every number up to vocab size\n",
    "    vocab_size = model.cfg.d_vocab\n",
    "    batch_size = 256*2 # Define your desired batch size\n",
    "\n",
    "    dollar_feature_activations = torch.zeros(vocab_size)\n",
    "    for start in range(0, vocab_size, batch_size):\n",
    "        end = min(start + batch_size, vocab_size)\n",
    "\n",
    "        token_prep = torch.arange(start, end).to(device)\n",
    "        token_prep = token_prep.unsqueeze(1)  # Add a dimension for concatenation\n",
    "\n",
    "        # 1. Prepend to the tokens\n",
    "        if setting == \"prepend\":\n",
    "            tokens_catted = torch.cat((token_prep, tokens.repeat(end - start, 1)), dim=1).long()\n",
    "        elif setting == \"append\":\n",
    "            tokens_catted = torch.cat((tokens.repeat(end - start, 1), token_prep), dim=1).long()\n",
    "        else:\n",
    "            raise ValueError(f\"Unknown setting: {setting}\")\n",
    "\n",
    "        # 2. Run through the model\n",
    "        with torch.no_grad():\n",
    "            _, cache = model.run_with_cache(tokens_catted.to(device))\n",
    "            neuron_act_batch = cache[cache_name]\n",
    "            _, act = smaller_auto_encoder(neuron_act_batch)\n",
    "\n",
    "        # 3. Get the feature\n",
    "        dollar_feature_activations[start:end] = act[:, -1, feature].cpu().squeeze()\n",
    "\n",
    "    k = 20\n",
    "    k_increasing_val, k_increasing_ind = dollar_feature_activations.topk(k)\n",
    "    k_decreasing_val, k_decreasing_ind = dollar_feature_activations.topk(k, largest=False)\n",
    "    if(setting == \"prepend\"):\n",
    "        print(f\"[token]{minimal_activating_example}\")\n",
    "    elif(setting == \"append\"):\n",
    "        print(f\"{minimal_activating_example}[token]\")\n",
    "    else:\n",
    "        raise ValueError(f\"Unknown setting: {setting}\")\n",
    "    # Print indices converted to tokens\n",
    "    print(f\"Top-{k} increasing: {model.to_str_tokens(k_increasing_ind)}\")\n",
    "    # Print values\n",
    "    print(f\"Top-{k} increasing: {[f'{val:.2f}' for val in k_increasing_val]}\")\n",
    "    print(f\"Top-{k} decreasing: {model.to_str_tokens(k_decreasing_ind)}\")\n",
    "    print(f\"Top-{k} decreasing: {[f'{val:.2f}' for val in k_decreasing_val]}\")\n",
    "    print(f\"Number of 0 activations: {torch.sum(dollar_feature_activations == 0)}\")\n",
    "    if(setting == \"prepend\"):\n",
    "        best_text = \"\".join(model.to_str_tokens(dollar_feature_activations.argmax()) + [minimal_activating_example])\n",
    "    else:\n",
    "        best_text = \"\".join([minimal_activating_example] + model.to_str_tokens(dollar_feature_activations.argmax()))\n",
    "    return best_text\n",
    "\n",
    "best_text = \"\"\n",
    "for x in range(3):\n",
    "    # best_text = prepend_all_tokens_and_get_feature_activation(model, best_text, best_feature, setting=\"prepend\")\n",
    "    best_text = prepend_all_tokens_and_get_feature_activation(model, best_text, best_feature, setting=\"append\")\n",
    "# prepend_all_tokens_and_get_feature_activation(model, \" for all $\", best_feature, setting=\"prepend\")\n",
    "# prepend_all_tokens_and_get_feature_activation(model, \" tree\", best_feature, setting=\"prepend\")\n",
    "# prepend_all_tokens_and_get_feature_activation(model, \" tree\", best_feature, setting=\"append\")"
   ]
  },
  {
   "cell_type": "code",
   "execution_count": null,
   "metadata": {},
   "outputs": [],
   "source": [
    "best_text = \"\"\n",
    "for x in range(3):\n",
    "    best_text = prepend_all_tokens_and_get_feature_activation(model, best_text, best_feature, setting=\"prepend\")"
   ]
  },
  {
   "cell_type": "code",
   "execution_count": null,
   "metadata": {},
   "outputs": [],
   "source": [
    "prepend_all_tokens_and_get_feature_activation(model, \" for all $\", best_feature, setting=\"prepend\")\n",
    "# prepend_all_tokens_and_get_feature_activation(model, \"The\", best_feature, setting=\"append\")\n",
    "# prepend_all_tokens_and_get_feature_activation(model, \" tree\", best_feature, setting=\"append\")"
   ]
  }
 ],
 "metadata": {
  "kernelspec": {
   "display_name": "Python 3",
   "language": "python",
   "name": "python3"
  },
  "language_info": {
   "codemirror_mode": {
    "name": "ipython",
    "version": 3
   },
   "file_extension": ".py",
   "mimetype": "text/x-python",
   "name": "python",
   "nbconvert_exporter": "python",
   "pygments_lexer": "ipython3",
   "version": "3.10.6"
  },
  "orig_nbformat": 4
 },
 "nbformat": 4,
 "nbformat_minor": 2
}
